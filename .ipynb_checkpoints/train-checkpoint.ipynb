{
 "cells": [
  {
   "cell_type": "code",
   "execution_count": 43,
   "id": "18b50393",
   "metadata": {},
   "outputs": [],
   "source": [
    "import torch\n",
    "import torchvision.datasets as datasets\n",
    "from tqdm import tqdm\n",
    "from torch import nn\n",
    "from ipynb.fs.full.model import VariationalAutoEncoder\n",
    "from torchvision import transforms\n",
    "from torchvision.utils import save_image  \n",
    "from torch.utils.data import DataLoader, RandomSampler\n",
    "import numpy as np"
   ]
  },
  {
   "cell_type": "markdown",
   "id": "867b846c",
   "metadata": {},
   "source": [
    "### configuration"
   ]
  },
  {
   "cell_type": "code",
   "execution_count": null,
   "id": "8d071567",
   "metadata": {},
   "outputs": [],
   "source": [
    "DEVICE = torch.device('cuda' if torch.cuda.is_available() else 'cpu')\n",
    "INPUT_DIM = 64\n",
    "INIT_DIM = 8\n",
    "LATENT_DIM = 3\n",
    "NUM_EPOCHS = 200\n",
    "BATCH_SIZE = 1\n",
    "LR_RATE = 3e-4\n",
    "KERNEL_SIZE = 4"
   ]
  },
  {
   "cell_type": "markdown",
   "id": "52753711",
   "metadata": {},
   "source": [
    "### loading dataset"
   ]
  },
  {
   "cell_type": "code",
   "execution_count": null,
   "id": "2fe03547",
   "metadata": {},
   "outputs": [],
   "source": [
    "# Dataset Loading\n",
    "data_path = 'dataset' # setting path\n",
    "transform = transforms.Compose([transforms.Resize((64, 64)),                 # sequence of transformations to be done\n",
    "                                transforms.Grayscale(num_output_channels=1), # on each image (resize, greyscale,\n",
    "                                transforms.ToTensor()])                      # convert to tensor)\n",
    "dataset = datasets.ImageFolder(root=data_path, transform=transform) # read data from folder\n",
    "train_loader = DataLoader(dataset=dataset, batch_size=BATCH_SIZE, shuffle=True) # create dataloader object\n",
    "model = VariationalAutoEncoder(init_dim=INIT_DIM, latent_dim=LATENT_DIM, kernel_size=KERNEL_SIZE).to(DEVICE) # initializing model object\n",
    "optimizer = torch.optim.Adam(model.parameters(), lr=LR_RATE) # defining optimizer\n",
    "loss_fn = nn.BCELoss(reduction='sum') # define loss function"
   ]
  },
  {
   "cell_type": "markdown",
   "id": "18630942",
   "metadata": {},
   "source": [
    "### training model"
   ]
  },
  {
   "cell_type": "code",
   "execution_count": 16,
   "id": "3b4f0ac0",
   "metadata": {},
   "outputs": [
    {
     "name": "stderr",
     "output_type": "stream",
     "text": [
      "6it [00:00, 56.00it/s, loss=2.79e+3]"
     ]
    },
    {
     "name": "stdout",
     "output_type": "stream",
     "text": [
      "Epoch: 0\n"
     ]
    },
    {
     "name": "stderr",
     "output_type": "stream",
     "text": [
      "800it [00:13, 60.54it/s, loss=2.78e+3]\n",
      "5it [00:00, 48.33it/s, loss=2.79e+3]"
     ]
    },
    {
     "name": "stdout",
     "output_type": "stream",
     "text": [
      "Epoch: 1\n"
     ]
    },
    {
     "name": "stderr",
     "output_type": "stream",
     "text": [
      "800it [00:13, 58.73it/s, loss=2.78e+3]\n",
      "6it [00:00, 53.98it/s, loss=2.78e+3]"
     ]
    },
    {
     "name": "stdout",
     "output_type": "stream",
     "text": [
      "Epoch: 2\n"
     ]
    },
    {
     "name": "stderr",
     "output_type": "stream",
     "text": [
      "800it [00:14, 55.25it/s, loss=2.78e+3]\n",
      "6it [00:00, 49.84it/s, loss=2.79e+3]"
     ]
    },
    {
     "name": "stdout",
     "output_type": "stream",
     "text": [
      "Epoch: 3\n"
     ]
    },
    {
     "name": "stderr",
     "output_type": "stream",
     "text": [
      "800it [00:13, 59.50it/s, loss=2.78e+3]\n",
      "5it [00:00, 47.75it/s, loss=2.78e+3]"
     ]
    },
    {
     "name": "stdout",
     "output_type": "stream",
     "text": [
      "Epoch: 4\n"
     ]
    },
    {
     "name": "stderr",
     "output_type": "stream",
     "text": [
      "800it [00:14, 56.21it/s, loss=2.79e+3]\n",
      "7it [00:00, 63.33it/s, loss=2.78e+3]"
     ]
    },
    {
     "name": "stdout",
     "output_type": "stream",
     "text": [
      "Epoch: 5\n"
     ]
    },
    {
     "name": "stderr",
     "output_type": "stream",
     "text": [
      "800it [00:14, 56.91it/s, loss=2.79e+3]\n",
      "6it [00:00, 58.12it/s, loss=2.78e+3]"
     ]
    },
    {
     "name": "stdout",
     "output_type": "stream",
     "text": [
      "Epoch: 6\n"
     ]
    },
    {
     "name": "stderr",
     "output_type": "stream",
     "text": [
      "800it [00:13, 57.15it/s, loss=2.78e+3]\n",
      "5it [00:00, 44.31it/s, loss=2.78e+3]"
     ]
    },
    {
     "name": "stdout",
     "output_type": "stream",
     "text": [
      "Epoch: 7\n"
     ]
    },
    {
     "name": "stderr",
     "output_type": "stream",
     "text": [
      "800it [00:13, 57.20it/s, loss=2.78e+3]\n",
      "6it [00:00, 59.56it/s, loss=2.79e+3]"
     ]
    },
    {
     "name": "stdout",
     "output_type": "stream",
     "text": [
      "Epoch: 8\n"
     ]
    },
    {
     "name": "stderr",
     "output_type": "stream",
     "text": [
      "800it [00:14, 56.52it/s, loss=2.79e+3]\n",
      "6it [00:00, 59.51it/s, loss=2.79e+3]"
     ]
    },
    {
     "name": "stdout",
     "output_type": "stream",
     "text": [
      "Epoch: 9\n"
     ]
    },
    {
     "name": "stderr",
     "output_type": "stream",
     "text": [
      "800it [00:13, 58.42it/s, loss=2.78e+3]\n",
      "6it [00:00, 48.75it/s, loss=2.78e+3]"
     ]
    },
    {
     "name": "stdout",
     "output_type": "stream",
     "text": [
      "Epoch: 10\n"
     ]
    },
    {
     "name": "stderr",
     "output_type": "stream",
     "text": [
      "800it [00:14, 56.05it/s, loss=2.78e+3]\n",
      "7it [00:00, 59.94it/s, loss=2.78e+3]"
     ]
    },
    {
     "name": "stdout",
     "output_type": "stream",
     "text": [
      "Epoch: 11\n"
     ]
    },
    {
     "name": "stderr",
     "output_type": "stream",
     "text": [
      "800it [00:14, 56.10it/s, loss=2.78e+3]\n",
      "6it [00:00, 57.31it/s, loss=2.78e+3]"
     ]
    },
    {
     "name": "stdout",
     "output_type": "stream",
     "text": [
      "Epoch: 12\n"
     ]
    },
    {
     "name": "stderr",
     "output_type": "stream",
     "text": [
      "800it [00:14, 55.28it/s, loss=2.79e+3]\n",
      "5it [00:00, 44.13it/s, loss=2.79e+3]"
     ]
    },
    {
     "name": "stdout",
     "output_type": "stream",
     "text": [
      "Epoch: 13\n"
     ]
    },
    {
     "name": "stderr",
     "output_type": "stream",
     "text": [
      "800it [00:14, 55.78it/s, loss=2.78e+3]\n",
      "6it [00:00, 50.00it/s, loss=2.78e+3]"
     ]
    },
    {
     "name": "stdout",
     "output_type": "stream",
     "text": [
      "Epoch: 14\n"
     ]
    },
    {
     "name": "stderr",
     "output_type": "stream",
     "text": [
      "800it [00:14, 55.21it/s, loss=2.78e+3]\n",
      "5it [00:00, 48.62it/s, loss=2.79e+3]"
     ]
    },
    {
     "name": "stdout",
     "output_type": "stream",
     "text": [
      "Epoch: 15\n"
     ]
    },
    {
     "name": "stderr",
     "output_type": "stream",
     "text": [
      "800it [00:14, 54.80it/s, loss=2.79e+3]\n",
      "7it [00:00, 65.40it/s, loss=2.78e+3]"
     ]
    },
    {
     "name": "stdout",
     "output_type": "stream",
     "text": [
      "Epoch: 16\n"
     ]
    },
    {
     "name": "stderr",
     "output_type": "stream",
     "text": [
      "800it [00:14, 56.00it/s, loss=2.78e+3]\n",
      "5it [00:00, 47.70it/s, loss=2.79e+3]"
     ]
    },
    {
     "name": "stdout",
     "output_type": "stream",
     "text": [
      "Epoch: 17\n"
     ]
    },
    {
     "name": "stderr",
     "output_type": "stream",
     "text": [
      "800it [00:14, 54.24it/s, loss=2.78e+3]\n",
      "6it [00:00, 54.53it/s, loss=2.78e+3]"
     ]
    },
    {
     "name": "stdout",
     "output_type": "stream",
     "text": [
      "Epoch: 18\n"
     ]
    },
    {
     "name": "stderr",
     "output_type": "stream",
     "text": [
      "800it [00:14, 56.17it/s, loss=2.78e+3]\n",
      "5it [00:00, 44.60it/s, loss=2.79e+3]"
     ]
    },
    {
     "name": "stdout",
     "output_type": "stream",
     "text": [
      "Epoch: 19\n"
     ]
    },
    {
     "name": "stderr",
     "output_type": "stream",
     "text": [
      "800it [00:14, 54.72it/s, loss=2.78e+3]\n",
      "6it [00:00, 57.83it/s, loss=2.78e+3]"
     ]
    },
    {
     "name": "stdout",
     "output_type": "stream",
     "text": [
      "Epoch: 20\n"
     ]
    },
    {
     "name": "stderr",
     "output_type": "stream",
     "text": [
      "800it [00:14, 55.65it/s, loss=2.78e+3]\n",
      "6it [00:00, 55.85it/s, loss=2.78e+3]"
     ]
    },
    {
     "name": "stdout",
     "output_type": "stream",
     "text": [
      "Epoch: 21\n"
     ]
    },
    {
     "name": "stderr",
     "output_type": "stream",
     "text": [
      "800it [00:14, 56.10it/s, loss=2.79e+3]\n",
      "6it [00:00, 53.20it/s, loss=2.77e+3]"
     ]
    },
    {
     "name": "stdout",
     "output_type": "stream",
     "text": [
      "Epoch: 22\n"
     ]
    },
    {
     "name": "stderr",
     "output_type": "stream",
     "text": [
      "800it [00:14, 55.09it/s, loss=2.77e+3]\n",
      "7it [00:00, 60.75it/s, loss=2.78e+3]"
     ]
    },
    {
     "name": "stdout",
     "output_type": "stream",
     "text": [
      "Epoch: 23\n"
     ]
    },
    {
     "name": "stderr",
     "output_type": "stream",
     "text": [
      "800it [00:14, 54.88it/s, loss=2.77e+3]\n",
      "7it [00:00, 66.22it/s, loss=2.79e+3]"
     ]
    },
    {
     "name": "stdout",
     "output_type": "stream",
     "text": [
      "Epoch: 24\n"
     ]
    },
    {
     "name": "stderr",
     "output_type": "stream",
     "text": [
      "800it [00:14, 56.37it/s, loss=2.78e+3]\n",
      "5it [00:00, 44.51it/s, loss=2.78e+3]"
     ]
    },
    {
     "name": "stdout",
     "output_type": "stream",
     "text": [
      "Epoch: 25\n"
     ]
    },
    {
     "name": "stderr",
     "output_type": "stream",
     "text": [
      "800it [00:14, 56.03it/s, loss=2.78e+3]\n",
      "5it [00:00, 48.40it/s, loss=2.77e+3]"
     ]
    },
    {
     "name": "stdout",
     "output_type": "stream",
     "text": [
      "Epoch: 26\n"
     ]
    },
    {
     "name": "stderr",
     "output_type": "stream",
     "text": [
      "800it [00:13, 57.55it/s, loss=2.78e+3]\n",
      "7it [00:00, 65.86it/s, loss=2.77e+3]"
     ]
    },
    {
     "name": "stdout",
     "output_type": "stream",
     "text": [
      "Epoch: 27\n"
     ]
    },
    {
     "name": "stderr",
     "output_type": "stream",
     "text": [
      "800it [00:14, 54.11it/s, loss=2.78e+3]\n",
      "7it [00:00, 61.81it/s, loss=2.78e+3]"
     ]
    },
    {
     "name": "stdout",
     "output_type": "stream",
     "text": [
      "Epoch: 28\n"
     ]
    },
    {
     "name": "stderr",
     "output_type": "stream",
     "text": [
      "800it [00:14, 54.04it/s, loss=2.78e+3]\n",
      "6it [00:00, 55.40it/s, loss=2.77e+3]"
     ]
    },
    {
     "name": "stdout",
     "output_type": "stream",
     "text": [
      "Epoch: 29\n"
     ]
    },
    {
     "name": "stderr",
     "output_type": "stream",
     "text": [
      "800it [00:14, 53.63it/s, loss=2.76e+3]\n",
      "6it [00:00, 59.40it/s, loss=2.75e+3]"
     ]
    },
    {
     "name": "stdout",
     "output_type": "stream",
     "text": [
      "Epoch: 30\n"
     ]
    },
    {
     "name": "stderr",
     "output_type": "stream",
     "text": [
      "800it [00:14, 56.05it/s, loss=2.78e+3]\n",
      "7it [00:00, 57.61it/s, loss=2.78e+3]"
     ]
    },
    {
     "name": "stdout",
     "output_type": "stream",
     "text": [
      "Epoch: 31\n"
     ]
    },
    {
     "name": "stderr",
     "output_type": "stream",
     "text": [
      "800it [00:14, 55.91it/s, loss=2.75e+3]\n",
      "6it [00:00, 54.74it/s, loss=2.76e+3]"
     ]
    },
    {
     "name": "stdout",
     "output_type": "stream",
     "text": [
      "Epoch: 32\n"
     ]
    },
    {
     "name": "stderr",
     "output_type": "stream",
     "text": [
      "800it [00:15, 52.44it/s, loss=2.79e+3]\n",
      "7it [00:00, 66.60it/s, loss=2.75e+3]"
     ]
    },
    {
     "name": "stdout",
     "output_type": "stream",
     "text": [
      "Epoch: 33\n"
     ]
    },
    {
     "name": "stderr",
     "output_type": "stream",
     "text": [
      "800it [00:14, 54.07it/s, loss=2.75e+3]\n",
      "5it [00:00, 47.18it/s, loss=2.79e+3]"
     ]
    },
    {
     "name": "stdout",
     "output_type": "stream",
     "text": [
      "Epoch: 34\n"
     ]
    },
    {
     "name": "stderr",
     "output_type": "stream",
     "text": [
      "800it [00:14, 55.60it/s, loss=2.78e+3]\n",
      "5it [00:00, 39.71it/s, loss=2.75e+3]"
     ]
    },
    {
     "name": "stdout",
     "output_type": "stream",
     "text": [
      "Epoch: 35\n"
     ]
    },
    {
     "name": "stderr",
     "output_type": "stream",
     "text": [
      "800it [00:14, 54.03it/s, loss=2.76e+3]\n",
      "6it [00:00, 56.43it/s, loss=2.76e+3]"
     ]
    },
    {
     "name": "stdout",
     "output_type": "stream",
     "text": [
      "Epoch: 36\n"
     ]
    },
    {
     "name": "stderr",
     "output_type": "stream",
     "text": [
      "800it [00:14, 53.82it/s, loss=2.77e+3]\n",
      "6it [00:00, 55.98it/s, loss=2.74e+3]"
     ]
    },
    {
     "name": "stdout",
     "output_type": "stream",
     "text": [
      "Epoch: 37\n"
     ]
    },
    {
     "name": "stderr",
     "output_type": "stream",
     "text": [
      "800it [00:15, 52.56it/s, loss=2.78e+3]\n",
      "6it [00:00, 59.05it/s, loss=2.75e+3]"
     ]
    },
    {
     "name": "stdout",
     "output_type": "stream",
     "text": [
      "Epoch: 38\n"
     ]
    },
    {
     "name": "stderr",
     "output_type": "stream",
     "text": [
      "800it [00:14, 54.20it/s, loss=2.75e+3]\n",
      "4it [00:00, 39.09it/s, loss=2.7e+3] "
     ]
    },
    {
     "name": "stdout",
     "output_type": "stream",
     "text": [
      "Epoch: 39\n"
     ]
    },
    {
     "name": "stderr",
     "output_type": "stream",
     "text": [
      "800it [00:14, 53.87it/s, loss=2.74e+3]\n",
      "7it [00:00, 62.75it/s, loss=2.76e+3]"
     ]
    },
    {
     "name": "stdout",
     "output_type": "stream",
     "text": [
      "Epoch: 40\n"
     ]
    },
    {
     "name": "stderr",
     "output_type": "stream",
     "text": [
      "800it [00:14, 54.01it/s, loss=2.7e+3] \n",
      "7it [00:00, 65.97it/s, loss=2.75e+3]"
     ]
    },
    {
     "name": "stdout",
     "output_type": "stream",
     "text": [
      "Epoch: 41\n"
     ]
    },
    {
     "name": "stderr",
     "output_type": "stream",
     "text": [
      "800it [00:14, 55.22it/s, loss=2.72e+3]\n",
      "5it [00:00, 45.73it/s, loss=2.71e+3]"
     ]
    },
    {
     "name": "stdout",
     "output_type": "stream",
     "text": [
      "Epoch: 42\n"
     ]
    },
    {
     "name": "stderr",
     "output_type": "stream",
     "text": [
      "800it [00:14, 55.76it/s, loss=2.71e+3]\n",
      "6it [00:00, 50.28it/s, loss=2.73e+3]"
     ]
    },
    {
     "name": "stdout",
     "output_type": "stream",
     "text": [
      "Epoch: 43\n"
     ]
    },
    {
     "name": "stderr",
     "output_type": "stream",
     "text": [
      "800it [00:14, 53.95it/s, loss=2.75e+3]\n",
      "5it [00:00, 45.70it/s, loss=2.69e+3]"
     ]
    },
    {
     "name": "stdout",
     "output_type": "stream",
     "text": [
      "Epoch: 44\n"
     ]
    },
    {
     "name": "stderr",
     "output_type": "stream",
     "text": [
      "800it [00:14, 55.66it/s, loss=2.76e+3]\n",
      "6it [00:00, 56.35it/s, loss=2.77e+3]"
     ]
    },
    {
     "name": "stdout",
     "output_type": "stream",
     "text": [
      "Epoch: 45\n"
     ]
    },
    {
     "name": "stderr",
     "output_type": "stream",
     "text": [
      "800it [00:14, 54.50it/s, loss=2.74e+3]\n",
      "5it [00:00, 46.54it/s, loss=2.75e+3]"
     ]
    },
    {
     "name": "stdout",
     "output_type": "stream",
     "text": [
      "Epoch: 46\n"
     ]
    },
    {
     "name": "stderr",
     "output_type": "stream",
     "text": [
      "800it [00:14, 54.80it/s, loss=2.7e+3] \n",
      "5it [00:00, 43.68it/s, loss=2.76e+3]"
     ]
    },
    {
     "name": "stdout",
     "output_type": "stream",
     "text": [
      "Epoch: 47\n"
     ]
    },
    {
     "name": "stderr",
     "output_type": "stream",
     "text": [
      "800it [00:15, 53.01it/s, loss=2.73e+3]\n",
      "6it [00:00, 48.11it/s, loss=2.74e+3]"
     ]
    },
    {
     "name": "stdout",
     "output_type": "stream",
     "text": [
      "Epoch: 48\n"
     ]
    },
    {
     "name": "stderr",
     "output_type": "stream",
     "text": [
      "800it [00:14, 55.92it/s, loss=2.71e+3]\n",
      "5it [00:00, 42.63it/s, loss=2.75e+3]"
     ]
    },
    {
     "name": "stdout",
     "output_type": "stream",
     "text": [
      "Epoch: 49\n"
     ]
    },
    {
     "name": "stderr",
     "output_type": "stream",
     "text": [
      "800it [00:14, 56.60it/s, loss=2.74e+3]\n",
      "7it [00:00, 63.97it/s, loss=2.75e+3]"
     ]
    },
    {
     "name": "stdout",
     "output_type": "stream",
     "text": [
      "Epoch: 50\n"
     ]
    },
    {
     "name": "stderr",
     "output_type": "stream",
     "text": [
      "800it [00:14, 55.15it/s, loss=2.76e+3]\n",
      "6it [00:00, 51.54it/s, loss=2.7e+3] "
     ]
    },
    {
     "name": "stdout",
     "output_type": "stream",
     "text": [
      "Epoch: 51\n"
     ]
    },
    {
     "name": "stderr",
     "output_type": "stream",
     "text": [
      "800it [00:14, 55.07it/s, loss=2.72e+3]\n",
      "5it [00:00, 44.99it/s, loss=2.74e+3]"
     ]
    },
    {
     "name": "stdout",
     "output_type": "stream",
     "text": [
      "Epoch: 52\n"
     ]
    },
    {
     "name": "stderr",
     "output_type": "stream",
     "text": [
      "800it [00:14, 54.29it/s, loss=2.75e+3]\n",
      "4it [00:00, 39.26it/s, loss=2.69e+3]"
     ]
    },
    {
     "name": "stdout",
     "output_type": "stream",
     "text": [
      "Epoch: 53\n"
     ]
    },
    {
     "name": "stderr",
     "output_type": "stream",
     "text": [
      "800it [00:14, 53.92it/s, loss=2.71e+3]\n",
      "6it [00:00, 53.19it/s, loss=2.7e+3] "
     ]
    },
    {
     "name": "stdout",
     "output_type": "stream",
     "text": [
      "Epoch: 54\n"
     ]
    },
    {
     "name": "stderr",
     "output_type": "stream",
     "text": [
      "800it [00:14, 56.07it/s, loss=2.72e+3]\n",
      "6it [00:00, 56.70it/s, loss=2.7e+3] "
     ]
    },
    {
     "name": "stdout",
     "output_type": "stream",
     "text": [
      "Epoch: 55\n"
     ]
    },
    {
     "name": "stderr",
     "output_type": "stream",
     "text": [
      "800it [00:15, 53.03it/s, loss=2.71e+3]\n",
      "7it [00:00, 61.38it/s, loss=2.76e+3]"
     ]
    },
    {
     "name": "stdout",
     "output_type": "stream",
     "text": [
      "Epoch: 56\n"
     ]
    },
    {
     "name": "stderr",
     "output_type": "stream",
     "text": [
      "800it [00:14, 55.36it/s, loss=2.74e+3]\n",
      "5it [00:00, 48.69it/s, loss=2.75e+3]"
     ]
    },
    {
     "name": "stdout",
     "output_type": "stream",
     "text": [
      "Epoch: 57\n"
     ]
    },
    {
     "name": "stderr",
     "output_type": "stream",
     "text": [
      "800it [00:14, 55.87it/s, loss=2.76e+3]\n",
      "5it [00:00, 43.51it/s, loss=2.76e+3]"
     ]
    },
    {
     "name": "stdout",
     "output_type": "stream",
     "text": [
      "Epoch: 58\n"
     ]
    },
    {
     "name": "stderr",
     "output_type": "stream",
     "text": [
      "800it [00:14, 55.67it/s, loss=2.72e+3]\n",
      "5it [00:00, 49.79it/s, loss=2.7e+3] "
     ]
    },
    {
     "name": "stdout",
     "output_type": "stream",
     "text": [
      "Epoch: 59\n"
     ]
    },
    {
     "name": "stderr",
     "output_type": "stream",
     "text": [
      "800it [00:14, 56.06it/s, loss=2.73e+3]\n",
      "7it [00:00, 65.03it/s, loss=2.69e+3]"
     ]
    },
    {
     "name": "stdout",
     "output_type": "stream",
     "text": [
      "Epoch: 60\n"
     ]
    },
    {
     "name": "stderr",
     "output_type": "stream",
     "text": [
      "800it [00:14, 54.47it/s, loss=2.72e+3]\n",
      "5it [00:00, 49.53it/s, loss=2.7e+3] "
     ]
    },
    {
     "name": "stdout",
     "output_type": "stream",
     "text": [
      "Epoch: 61\n"
     ]
    },
    {
     "name": "stderr",
     "output_type": "stream",
     "text": [
      "800it [00:14, 54.51it/s, loss=2.71e+3]\n",
      "7it [00:00, 65.93it/s, loss=2.74e+3]"
     ]
    },
    {
     "name": "stdout",
     "output_type": "stream",
     "text": [
      "Epoch: 62\n"
     ]
    },
    {
     "name": "stderr",
     "output_type": "stream",
     "text": [
      "800it [00:14, 54.08it/s, loss=2.74e+3]\n",
      "5it [00:00, 41.57it/s, loss=2.7e+3] "
     ]
    },
    {
     "name": "stdout",
     "output_type": "stream",
     "text": [
      "Epoch: 63\n"
     ]
    },
    {
     "name": "stderr",
     "output_type": "stream",
     "text": [
      "800it [00:14, 55.09it/s, loss=2.74e+3]\n",
      "7it [00:00, 60.83it/s, loss=2.74e+3]"
     ]
    },
    {
     "name": "stdout",
     "output_type": "stream",
     "text": [
      "Epoch: 64\n"
     ]
    },
    {
     "name": "stderr",
     "output_type": "stream",
     "text": [
      "800it [00:14, 55.23it/s, loss=2.71e+3]\n",
      "7it [00:00, 67.30it/s, loss=2.71e+3]"
     ]
    },
    {
     "name": "stdout",
     "output_type": "stream",
     "text": [
      "Epoch: 65\n"
     ]
    },
    {
     "name": "stderr",
     "output_type": "stream",
     "text": [
      "800it [00:14, 53.88it/s, loss=2.73e+3]\n",
      "6it [00:00, 58.14it/s, loss=2.74e+3]"
     ]
    },
    {
     "name": "stdout",
     "output_type": "stream",
     "text": [
      "Epoch: 66\n"
     ]
    },
    {
     "name": "stderr",
     "output_type": "stream",
     "text": [
      "800it [00:14, 55.82it/s, loss=2.71e+3]\n",
      "7it [00:00, 64.35it/s, loss=2.7e+3] "
     ]
    },
    {
     "name": "stdout",
     "output_type": "stream",
     "text": [
      "Epoch: 67\n"
     ]
    },
    {
     "name": "stderr",
     "output_type": "stream",
     "text": [
      "800it [00:14, 54.75it/s, loss=2.71e+3]\n",
      "5it [00:00, 44.59it/s, loss=2.71e+3]"
     ]
    },
    {
     "name": "stdout",
     "output_type": "stream",
     "text": [
      "Epoch: 68\n"
     ]
    },
    {
     "name": "stderr",
     "output_type": "stream",
     "text": [
      "800it [00:14, 54.18it/s, loss=2.7e+3] \n",
      "6it [00:00, 51.68it/s, loss=2.72e+3]"
     ]
    },
    {
     "name": "stdout",
     "output_type": "stream",
     "text": [
      "Epoch: 69\n"
     ]
    },
    {
     "name": "stderr",
     "output_type": "stream",
     "text": [
      "800it [00:14, 54.95it/s, loss=2.75e+3]\n",
      "5it [00:00, 46.18it/s, loss=2.71e+3]"
     ]
    },
    {
     "name": "stdout",
     "output_type": "stream",
     "text": [
      "Epoch: 70\n"
     ]
    },
    {
     "name": "stderr",
     "output_type": "stream",
     "text": [
      "800it [00:14, 56.85it/s, loss=2.73e+3]\n",
      "6it [00:00, 59.09it/s, loss=2.69e+3]"
     ]
    },
    {
     "name": "stdout",
     "output_type": "stream",
     "text": [
      "Epoch: 71\n"
     ]
    },
    {
     "name": "stderr",
     "output_type": "stream",
     "text": [
      "800it [00:15, 52.94it/s, loss=2.73e+3]\n",
      "4it [00:00, 39.80it/s, loss=2.72e+3]"
     ]
    },
    {
     "name": "stdout",
     "output_type": "stream",
     "text": [
      "Epoch: 72\n"
     ]
    },
    {
     "name": "stderr",
     "output_type": "stream",
     "text": [
      "800it [00:14, 53.66it/s, loss=2.72e+3]\n",
      "6it [00:00, 56.05it/s, loss=2.74e+3]"
     ]
    },
    {
     "name": "stdout",
     "output_type": "stream",
     "text": [
      "Epoch: 73\n"
     ]
    },
    {
     "name": "stderr",
     "output_type": "stream",
     "text": [
      "800it [00:15, 53.22it/s, loss=2.71e+3]\n",
      "7it [00:00, 66.37it/s, loss=2.73e+3]"
     ]
    },
    {
     "name": "stdout",
     "output_type": "stream",
     "text": [
      "Epoch: 74\n"
     ]
    },
    {
     "name": "stderr",
     "output_type": "stream",
     "text": [
      "800it [00:14, 56.44it/s, loss=2.73e+3]\n",
      "7it [00:00, 60.57it/s, loss=2.74e+3]"
     ]
    },
    {
     "name": "stdout",
     "output_type": "stream",
     "text": [
      "Epoch: 75\n"
     ]
    },
    {
     "name": "stderr",
     "output_type": "stream",
     "text": [
      "800it [00:14, 54.30it/s, loss=2.73e+3]\n",
      "5it [00:00, 43.85it/s, loss=2.69e+3]"
     ]
    },
    {
     "name": "stdout",
     "output_type": "stream",
     "text": [
      "Epoch: 76\n"
     ]
    },
    {
     "name": "stderr",
     "output_type": "stream",
     "text": [
      "800it [00:14, 54.85it/s, loss=2.7e+3] \n",
      "6it [00:00, 57.01it/s, loss=2.71e+3]"
     ]
    },
    {
     "name": "stdout",
     "output_type": "stream",
     "text": [
      "Epoch: 77\n"
     ]
    },
    {
     "name": "stderr",
     "output_type": "stream",
     "text": [
      "800it [00:14, 53.59it/s, loss=2.69e+3]\n",
      "6it [00:00, 54.19it/s, loss=2.76e+3]"
     ]
    },
    {
     "name": "stdout",
     "output_type": "stream",
     "text": [
      "Epoch: 78\n"
     ]
    },
    {
     "name": "stderr",
     "output_type": "stream",
     "text": [
      "800it [00:14, 56.28it/s, loss=2.73e+3]\n",
      "7it [00:00, 64.50it/s, loss=2.71e+3]"
     ]
    },
    {
     "name": "stdout",
     "output_type": "stream",
     "text": [
      "Epoch: 79\n"
     ]
    },
    {
     "name": "stderr",
     "output_type": "stream",
     "text": [
      "800it [00:14, 53.38it/s, loss=2.7e+3] \n",
      "5it [00:00, 42.93it/s, loss=2.69e+3]"
     ]
    },
    {
     "name": "stdout",
     "output_type": "stream",
     "text": [
      "Epoch: 80\n"
     ]
    },
    {
     "name": "stderr",
     "output_type": "stream",
     "text": [
      "800it [00:14, 55.21it/s, loss=2.7e+3] \n",
      "4it [00:00, 37.14it/s, loss=2.78e+3]"
     ]
    },
    {
     "name": "stdout",
     "output_type": "stream",
     "text": [
      "Epoch: 81\n"
     ]
    },
    {
     "name": "stderr",
     "output_type": "stream",
     "text": [
      "800it [00:14, 54.49it/s, loss=2.71e+3]\n",
      "7it [00:00, 55.91it/s, loss=2.73e+3]"
     ]
    },
    {
     "name": "stdout",
     "output_type": "stream",
     "text": [
      "Epoch: 82\n"
     ]
    },
    {
     "name": "stderr",
     "output_type": "stream",
     "text": [
      "800it [00:14, 53.81it/s, loss=2.71e+3]\n",
      "5it [00:00, 44.85it/s, loss=2.75e+3]"
     ]
    },
    {
     "name": "stdout",
     "output_type": "stream",
     "text": [
      "Epoch: 83\n"
     ]
    },
    {
     "name": "stderr",
     "output_type": "stream",
     "text": [
      "800it [00:14, 55.27it/s, loss=2.72e+3]\n",
      "5it [00:00, 45.76it/s, loss=2.7e+3] "
     ]
    },
    {
     "name": "stdout",
     "output_type": "stream",
     "text": [
      "Epoch: 84\n"
     ]
    },
    {
     "name": "stderr",
     "output_type": "stream",
     "text": [
      "800it [00:14, 54.63it/s, loss=2.71e+3]\n",
      "7it [00:00, 64.89it/s, loss=2.69e+3]"
     ]
    },
    {
     "name": "stdout",
     "output_type": "stream",
     "text": [
      "Epoch: 85\n"
     ]
    },
    {
     "name": "stderr",
     "output_type": "stream",
     "text": [
      "800it [00:14, 53.94it/s, loss=2.73e+3]\n",
      "7it [00:00, 62.97it/s, loss=2.73e+3]"
     ]
    },
    {
     "name": "stdout",
     "output_type": "stream",
     "text": [
      "Epoch: 86\n"
     ]
    },
    {
     "name": "stderr",
     "output_type": "stream",
     "text": [
      "800it [00:14, 54.55it/s, loss=2.7e+3] \n",
      "6it [00:00, 51.94it/s, loss=2.71e+3]"
     ]
    },
    {
     "name": "stdout",
     "output_type": "stream",
     "text": [
      "Epoch: 87\n"
     ]
    },
    {
     "name": "stderr",
     "output_type": "stream",
     "text": [
      "800it [00:14, 55.04it/s, loss=2.69e+3]\n",
      "7it [00:00, 64.39it/s, loss=2.73e+3]"
     ]
    },
    {
     "name": "stdout",
     "output_type": "stream",
     "text": [
      "Epoch: 88\n"
     ]
    },
    {
     "name": "stderr",
     "output_type": "stream",
     "text": [
      "800it [00:15, 53.01it/s, loss=2.72e+3]\n",
      "5it [00:00, 45.30it/s, loss=2.73e+3]"
     ]
    },
    {
     "name": "stdout",
     "output_type": "stream",
     "text": [
      "Epoch: 89\n"
     ]
    },
    {
     "name": "stderr",
     "output_type": "stream",
     "text": [
      "800it [00:14, 54.30it/s, loss=2.71e+3]\n",
      "7it [00:00, 64.73it/s, loss=2.74e+3]"
     ]
    },
    {
     "name": "stdout",
     "output_type": "stream",
     "text": [
      "Epoch: 90\n"
     ]
    },
    {
     "name": "stderr",
     "output_type": "stream",
     "text": [
      "800it [00:14, 54.73it/s, loss=2.72e+3]\n",
      "5it [00:00, 46.07it/s, loss=2.71e+3]"
     ]
    },
    {
     "name": "stdout",
     "output_type": "stream",
     "text": [
      "Epoch: 91\n"
     ]
    },
    {
     "name": "stderr",
     "output_type": "stream",
     "text": [
      "800it [00:14, 53.41it/s, loss=2.73e+3]\n",
      "7it [00:00, 64.74it/s, loss=2.71e+3]"
     ]
    },
    {
     "name": "stdout",
     "output_type": "stream",
     "text": [
      "Epoch: 92\n"
     ]
    },
    {
     "name": "stderr",
     "output_type": "stream",
     "text": [
      "800it [00:15, 52.08it/s, loss=2.72e+3]\n",
      "5it [00:00, 42.04it/s, loss=2.72e+3]"
     ]
    },
    {
     "name": "stdout",
     "output_type": "stream",
     "text": [
      "Epoch: 93\n"
     ]
    },
    {
     "name": "stderr",
     "output_type": "stream",
     "text": [
      "800it [00:15, 50.99it/s, loss=2.7e+3] \n",
      "5it [00:00, 49.20it/s, loss=2.7e+3] "
     ]
    },
    {
     "name": "stdout",
     "output_type": "stream",
     "text": [
      "Epoch: 94\n"
     ]
    },
    {
     "name": "stderr",
     "output_type": "stream",
     "text": [
      "800it [00:14, 54.26it/s, loss=2.73e+3]\n",
      "6it [00:00, 55.21it/s, loss=2.73e+3]"
     ]
    },
    {
     "name": "stdout",
     "output_type": "stream",
     "text": [
      "Epoch: 95\n"
     ]
    },
    {
     "name": "stderr",
     "output_type": "stream",
     "text": [
      "800it [00:15, 52.75it/s, loss=2.72e+3]\n",
      "5it [00:00, 45.60it/s, loss=2.73e+3]"
     ]
    },
    {
     "name": "stdout",
     "output_type": "stream",
     "text": [
      "Epoch: 96\n"
     ]
    },
    {
     "name": "stderr",
     "output_type": "stream",
     "text": [
      "800it [00:15, 52.23it/s, loss=2.71e+3]\n",
      "6it [00:00, 57.40it/s, loss=2.75e+3]"
     ]
    },
    {
     "name": "stdout",
     "output_type": "stream",
     "text": [
      "Epoch: 97\n"
     ]
    },
    {
     "name": "stderr",
     "output_type": "stream",
     "text": [
      "800it [00:15, 50.73it/s, loss=2.72e+3]\n",
      "7it [00:00, 62.52it/s, loss=2.69e+3]"
     ]
    },
    {
     "name": "stdout",
     "output_type": "stream",
     "text": [
      "Epoch: 98\n"
     ]
    },
    {
     "name": "stderr",
     "output_type": "stream",
     "text": [
      "800it [00:16, 49.25it/s, loss=2.73e+3]\n",
      "7it [00:00, 62.88it/s, loss=2.7e+3] "
     ]
    },
    {
     "name": "stdout",
     "output_type": "stream",
     "text": [
      "Epoch: 99\n"
     ]
    },
    {
     "name": "stderr",
     "output_type": "stream",
     "text": [
      "800it [00:15, 51.27it/s, loss=2.71e+3]\n",
      "5it [00:00, 44.44it/s, loss=2.69e+3]"
     ]
    },
    {
     "name": "stdout",
     "output_type": "stream",
     "text": [
      "Epoch: 100\n"
     ]
    },
    {
     "name": "stderr",
     "output_type": "stream",
     "text": [
      "800it [00:15, 53.23it/s, loss=2.69e+3]\n",
      "7it [00:00, 62.31it/s, loss=2.71e+3]"
     ]
    },
    {
     "name": "stdout",
     "output_type": "stream",
     "text": [
      "Epoch: 101\n"
     ]
    },
    {
     "name": "stderr",
     "output_type": "stream",
     "text": [
      "800it [00:15, 52.95it/s, loss=2.73e+3]\n",
      "7it [00:00, 61.95it/s, loss=2.71e+3]"
     ]
    },
    {
     "name": "stdout",
     "output_type": "stream",
     "text": [
      "Epoch: 102\n"
     ]
    },
    {
     "name": "stderr",
     "output_type": "stream",
     "text": [
      "800it [00:15, 52.46it/s, loss=2.71e+3]\n",
      "5it [00:00, 49.52it/s, loss=2.72e+3]"
     ]
    },
    {
     "name": "stdout",
     "output_type": "stream",
     "text": [
      "Epoch: 103\n"
     ]
    },
    {
     "name": "stderr",
     "output_type": "stream",
     "text": [
      "800it [00:15, 50.37it/s, loss=2.7e+3] \n",
      "5it [00:00, 41.30it/s, loss=2.69e+3]"
     ]
    },
    {
     "name": "stdout",
     "output_type": "stream",
     "text": [
      "Epoch: 104\n"
     ]
    },
    {
     "name": "stderr",
     "output_type": "stream",
     "text": [
      "800it [00:15, 50.31it/s, loss=2.74e+3]\n",
      "4it [00:00, 34.87it/s, loss=2.71e+3]"
     ]
    },
    {
     "name": "stdout",
     "output_type": "stream",
     "text": [
      "Epoch: 105\n"
     ]
    },
    {
     "name": "stderr",
     "output_type": "stream",
     "text": [
      "800it [00:15, 52.58it/s, loss=2.72e+3]\n",
      "6it [00:00, 58.82it/s, loss=2.69e+3]"
     ]
    },
    {
     "name": "stdout",
     "output_type": "stream",
     "text": [
      "Epoch: 106\n"
     ]
    },
    {
     "name": "stderr",
     "output_type": "stream",
     "text": [
      "800it [00:16, 49.56it/s, loss=2.69e+3]\n",
      "7it [00:00, 63.45it/s, loss=2.72e+3]"
     ]
    },
    {
     "name": "stdout",
     "output_type": "stream",
     "text": [
      "Epoch: 107\n"
     ]
    },
    {
     "name": "stderr",
     "output_type": "stream",
     "text": [
      "800it [00:16, 49.82it/s, loss=2.69e+3]\n",
      "7it [00:00, 63.55it/s, loss=2.71e+3]"
     ]
    },
    {
     "name": "stdout",
     "output_type": "stream",
     "text": [
      "Epoch: 108\n"
     ]
    },
    {
     "name": "stderr",
     "output_type": "stream",
     "text": [
      "800it [00:15, 52.73it/s, loss=2.71e+3]\n",
      "7it [00:00, 62.51it/s, loss=2.69e+3]"
     ]
    },
    {
     "name": "stdout",
     "output_type": "stream",
     "text": [
      "Epoch: 109\n"
     ]
    },
    {
     "name": "stderr",
     "output_type": "stream",
     "text": [
      "800it [00:16, 49.34it/s, loss=2.72e+3]\n",
      "4it [00:00, 38.21it/s, loss=2.7e+3] "
     ]
    },
    {
     "name": "stdout",
     "output_type": "stream",
     "text": [
      "Epoch: 110\n"
     ]
    },
    {
     "name": "stderr",
     "output_type": "stream",
     "text": [
      "800it [00:14, 55.32it/s, loss=2.72e+3]\n",
      "6it [00:00, 51.33it/s, loss=2.71e+3]"
     ]
    },
    {
     "name": "stdout",
     "output_type": "stream",
     "text": [
      "Epoch: 111\n"
     ]
    },
    {
     "name": "stderr",
     "output_type": "stream",
     "text": [
      "800it [00:15, 50.41it/s, loss=2.72e+3]\n",
      "7it [00:00, 64.14it/s, loss=2.71e+3]"
     ]
    },
    {
     "name": "stdout",
     "output_type": "stream",
     "text": [
      "Epoch: 112\n"
     ]
    },
    {
     "name": "stderr",
     "output_type": "stream",
     "text": [
      "800it [00:15, 50.83it/s, loss=2.72e+3]\n",
      "5it [00:00, 41.70it/s, loss=2.71e+3]"
     ]
    },
    {
     "name": "stdout",
     "output_type": "stream",
     "text": [
      "Epoch: 113\n"
     ]
    },
    {
     "name": "stderr",
     "output_type": "stream",
     "text": [
      "800it [00:15, 51.38it/s, loss=2.72e+3]\n",
      "4it [00:00, 38.83it/s, loss=2.83e+3]"
     ]
    },
    {
     "name": "stdout",
     "output_type": "stream",
     "text": [
      "Epoch: 114\n"
     ]
    },
    {
     "name": "stderr",
     "output_type": "stream",
     "text": [
      "800it [00:15, 51.24it/s, loss=2.69e+3]\n",
      "6it [00:00, 51.88it/s, loss=2.74e+3]"
     ]
    },
    {
     "name": "stdout",
     "output_type": "stream",
     "text": [
      "Epoch: 115\n"
     ]
    },
    {
     "name": "stderr",
     "output_type": "stream",
     "text": [
      "800it [00:15, 51.82it/s, loss=2.75e+3]\n",
      "7it [00:00, 60.28it/s, loss=2.71e+3]"
     ]
    },
    {
     "name": "stdout",
     "output_type": "stream",
     "text": [
      "Epoch: 116\n"
     ]
    },
    {
     "name": "stderr",
     "output_type": "stream",
     "text": [
      "800it [00:15, 52.00it/s, loss=2.7e+3] \n",
      "5it [00:00, 48.06it/s, loss=2.72e+3]"
     ]
    },
    {
     "name": "stdout",
     "output_type": "stream",
     "text": [
      "Epoch: 117\n"
     ]
    },
    {
     "name": "stderr",
     "output_type": "stream",
     "text": [
      "800it [00:15, 50.54it/s, loss=2.71e+3]\n",
      "7it [00:00, 62.60it/s, loss=2.7e+3] "
     ]
    },
    {
     "name": "stdout",
     "output_type": "stream",
     "text": [
      "Epoch: 118\n"
     ]
    },
    {
     "name": "stderr",
     "output_type": "stream",
     "text": [
      "800it [00:15, 50.06it/s, loss=2.73e+3]\n",
      "5it [00:00, 48.91it/s, loss=2.72e+3]"
     ]
    },
    {
     "name": "stdout",
     "output_type": "stream",
     "text": [
      "Epoch: 119\n"
     ]
    },
    {
     "name": "stderr",
     "output_type": "stream",
     "text": [
      "800it [00:15, 50.42it/s, loss=2.73e+3]\n",
      "4it [00:00, 35.08it/s, loss=2.7e+3] "
     ]
    },
    {
     "name": "stdout",
     "output_type": "stream",
     "text": [
      "Epoch: 120\n"
     ]
    },
    {
     "name": "stderr",
     "output_type": "stream",
     "text": [
      "800it [00:15, 50.84it/s, loss=2.82e+3]\n",
      "7it [00:00, 64.05it/s, loss=2.72e+3]"
     ]
    },
    {
     "name": "stdout",
     "output_type": "stream",
     "text": [
      "Epoch: 121\n"
     ]
    },
    {
     "name": "stderr",
     "output_type": "stream",
     "text": [
      "800it [00:15, 51.42it/s, loss=2.72e+3]\n",
      "7it [00:00, 63.27it/s, loss=2.73e+3]"
     ]
    },
    {
     "name": "stdout",
     "output_type": "stream",
     "text": [
      "Epoch: 122\n"
     ]
    },
    {
     "name": "stderr",
     "output_type": "stream",
     "text": [
      "800it [00:15, 50.29it/s, loss=2.71e+3]\n",
      "7it [00:00, 63.82it/s, loss=2.72e+3]"
     ]
    },
    {
     "name": "stdout",
     "output_type": "stream",
     "text": [
      "Epoch: 123\n"
     ]
    },
    {
     "name": "stderr",
     "output_type": "stream",
     "text": [
      "800it [00:15, 50.25it/s, loss=2.71e+3]\n",
      "6it [00:00, 53.54it/s, loss=2.73e+3]"
     ]
    },
    {
     "name": "stdout",
     "output_type": "stream",
     "text": [
      "Epoch: 124\n"
     ]
    },
    {
     "name": "stderr",
     "output_type": "stream",
     "text": [
      "800it [00:16, 49.30it/s, loss=2.73e+3]\n",
      "6it [00:00, 52.60it/s, loss=2.74e+3]"
     ]
    },
    {
     "name": "stdout",
     "output_type": "stream",
     "text": [
      "Epoch: 125\n"
     ]
    },
    {
     "name": "stderr",
     "output_type": "stream",
     "text": [
      "800it [00:14, 53.75it/s, loss=2.7e+3] \n",
      "6it [00:00, 54.45it/s, loss=2.7e+3] "
     ]
    },
    {
     "name": "stdout",
     "output_type": "stream",
     "text": [
      "Epoch: 126\n"
     ]
    },
    {
     "name": "stderr",
     "output_type": "stream",
     "text": [
      "800it [00:15, 51.99it/s, loss=2.71e+3]\n",
      "6it [00:00, 50.62it/s, loss=2.71e+3]"
     ]
    },
    {
     "name": "stdout",
     "output_type": "stream",
     "text": [
      "Epoch: 127\n"
     ]
    },
    {
     "name": "stderr",
     "output_type": "stream",
     "text": [
      "800it [00:15, 50.71it/s, loss=2.7e+3] \n",
      "7it [00:00, 61.33it/s, loss=2.71e+3]"
     ]
    },
    {
     "name": "stdout",
     "output_type": "stream",
     "text": [
      "Epoch: 128\n"
     ]
    },
    {
     "name": "stderr",
     "output_type": "stream",
     "text": [
      "800it [00:14, 54.15it/s, loss=2.72e+3]\n",
      "5it [00:00, 45.15it/s, loss=2.68e+3]"
     ]
    },
    {
     "name": "stdout",
     "output_type": "stream",
     "text": [
      "Epoch: 129\n"
     ]
    },
    {
     "name": "stderr",
     "output_type": "stream",
     "text": [
      "800it [00:15, 52.53it/s, loss=2.73e+3]\n",
      "7it [00:00, 65.50it/s, loss=2.7e+3] "
     ]
    },
    {
     "name": "stdout",
     "output_type": "stream",
     "text": [
      "Epoch: 130\n"
     ]
    },
    {
     "name": "stderr",
     "output_type": "stream",
     "text": [
      "800it [00:15, 50.47it/s, loss=2.72e+3]\n",
      "7it [00:00, 61.20it/s, loss=2.7e+3] "
     ]
    },
    {
     "name": "stdout",
     "output_type": "stream",
     "text": [
      "Epoch: 131\n"
     ]
    },
    {
     "name": "stderr",
     "output_type": "stream",
     "text": [
      "800it [00:16, 49.28it/s, loss=2.69e+3]\n",
      "7it [00:00, 59.27it/s, loss=2.72e+3]"
     ]
    },
    {
     "name": "stdout",
     "output_type": "stream",
     "text": [
      "Epoch: 132\n"
     ]
    },
    {
     "name": "stderr",
     "output_type": "stream",
     "text": [
      "800it [00:16, 49.21it/s, loss=2.69e+3]\n",
      "7it [00:00, 64.15it/s, loss=2.72e+3]"
     ]
    },
    {
     "name": "stdout",
     "output_type": "stream",
     "text": [
      "Epoch: 133\n"
     ]
    },
    {
     "name": "stderr",
     "output_type": "stream",
     "text": [
      "800it [00:15, 51.52it/s, loss=2.71e+3]\n",
      "4it [00:00, 35.59it/s, loss=2.69e+3]"
     ]
    },
    {
     "name": "stdout",
     "output_type": "stream",
     "text": [
      "Epoch: 134\n"
     ]
    },
    {
     "name": "stderr",
     "output_type": "stream",
     "text": [
      "800it [00:16, 49.44it/s, loss=2.75e+3]\n",
      "4it [00:00, 33.29it/s, loss=2.71e+3]"
     ]
    },
    {
     "name": "stdout",
     "output_type": "stream",
     "text": [
      "Epoch: 135\n"
     ]
    },
    {
     "name": "stderr",
     "output_type": "stream",
     "text": [
      "800it [00:15, 52.39it/s, loss=2.74e+3]\n",
      "5it [00:00, 41.85it/s, loss=2.7e+3] "
     ]
    },
    {
     "name": "stdout",
     "output_type": "stream",
     "text": [
      "Epoch: 136\n"
     ]
    },
    {
     "name": "stderr",
     "output_type": "stream",
     "text": [
      "800it [00:16, 49.52it/s, loss=2.72e+3]\n",
      "6it [00:00, 58.78it/s, loss=2.69e+3]"
     ]
    },
    {
     "name": "stdout",
     "output_type": "stream",
     "text": [
      "Epoch: 137\n"
     ]
    },
    {
     "name": "stderr",
     "output_type": "stream",
     "text": [
      "800it [00:15, 50.61it/s, loss=2.73e+3]\n",
      "4it [00:00, 35.65it/s, loss=2.69e+3]"
     ]
    },
    {
     "name": "stdout",
     "output_type": "stream",
     "text": [
      "Epoch: 138\n"
     ]
    },
    {
     "name": "stderr",
     "output_type": "stream",
     "text": [
      "800it [00:15, 51.36it/s, loss=2.73e+3]\n",
      "7it [00:00, 56.73it/s, loss=2.69e+3]"
     ]
    },
    {
     "name": "stdout",
     "output_type": "stream",
     "text": [
      "Epoch: 139\n"
     ]
    },
    {
     "name": "stderr",
     "output_type": "stream",
     "text": [
      "800it [00:16, 49.68it/s, loss=2.73e+3]\n",
      "7it [00:00, 62.52it/s, loss=2.71e+3]"
     ]
    },
    {
     "name": "stdout",
     "output_type": "stream",
     "text": [
      "Epoch: 140\n"
     ]
    },
    {
     "name": "stderr",
     "output_type": "stream",
     "text": [
      "800it [00:15, 52.22it/s, loss=2.73e+3]\n",
      "5it [00:00, 43.81it/s, loss=2.68e+3]"
     ]
    },
    {
     "name": "stdout",
     "output_type": "stream",
     "text": [
      "Epoch: 141\n"
     ]
    },
    {
     "name": "stderr",
     "output_type": "stream",
     "text": [
      "800it [00:15, 52.71it/s, loss=2.71e+3]\n",
      "4it [00:00, 37.37it/s, loss=2.7e+3] "
     ]
    },
    {
     "name": "stdout",
     "output_type": "stream",
     "text": [
      "Epoch: 142\n"
     ]
    },
    {
     "name": "stderr",
     "output_type": "stream",
     "text": [
      "800it [00:16, 49.83it/s, loss=2.72e+3]\n",
      "6it [00:00, 59.61it/s, loss=2.68e+3]"
     ]
    },
    {
     "name": "stdout",
     "output_type": "stream",
     "text": [
      "Epoch: 143\n"
     ]
    },
    {
     "name": "stderr",
     "output_type": "stream",
     "text": [
      "800it [00:15, 52.13it/s, loss=2.72e+3]\n",
      "4it [00:00, 34.18it/s, loss=2.71e+3]"
     ]
    },
    {
     "name": "stdout",
     "output_type": "stream",
     "text": [
      "Epoch: 144\n"
     ]
    },
    {
     "name": "stderr",
     "output_type": "stream",
     "text": [
      "800it [00:15, 51.83it/s, loss=2.71e+3]\n",
      "7it [00:00, 63.69it/s, loss=2.68e+3]"
     ]
    },
    {
     "name": "stdout",
     "output_type": "stream",
     "text": [
      "Epoch: 145\n"
     ]
    },
    {
     "name": "stderr",
     "output_type": "stream",
     "text": [
      "800it [00:14, 54.22it/s, loss=2.7e+3] \n",
      "7it [00:00, 64.54it/s, loss=2.69e+3]"
     ]
    },
    {
     "name": "stdout",
     "output_type": "stream",
     "text": [
      "Epoch: 146\n"
     ]
    },
    {
     "name": "stderr",
     "output_type": "stream",
     "text": [
      "800it [00:14, 53.68it/s, loss=2.72e+3]\n",
      "7it [00:00, 63.88it/s, loss=2.72e+3]"
     ]
    },
    {
     "name": "stdout",
     "output_type": "stream",
     "text": [
      "Epoch: 147\n"
     ]
    },
    {
     "name": "stderr",
     "output_type": "stream",
     "text": [
      "800it [00:15, 52.27it/s, loss=2.71e+3]\n",
      "7it [00:00, 61.28it/s, loss=2.71e+3]"
     ]
    },
    {
     "name": "stdout",
     "output_type": "stream",
     "text": [
      "Epoch: 148\n"
     ]
    },
    {
     "name": "stderr",
     "output_type": "stream",
     "text": [
      "800it [00:15, 51.27it/s, loss=2.71e+3]\n",
      "5it [00:00, 49.99it/s, loss=2.72e+3]"
     ]
    },
    {
     "name": "stdout",
     "output_type": "stream",
     "text": [
      "Epoch: 149\n"
     ]
    },
    {
     "name": "stderr",
     "output_type": "stream",
     "text": [
      "800it [00:16, 49.50it/s, loss=2.71e+3]\n",
      "4it [00:00, 34.67it/s, loss=2.69e+3]"
     ]
    },
    {
     "name": "stdout",
     "output_type": "stream",
     "text": [
      "Epoch: 150\n"
     ]
    },
    {
     "name": "stderr",
     "output_type": "stream",
     "text": [
      "800it [00:16, 48.50it/s, loss=2.68e+3]\n",
      "4it [00:00, 32.57it/s, loss=2.72e+3]"
     ]
    },
    {
     "name": "stdout",
     "output_type": "stream",
     "text": [
      "Epoch: 151\n"
     ]
    },
    {
     "name": "stderr",
     "output_type": "stream",
     "text": [
      "800it [00:15, 51.31it/s, loss=2.71e+3]\n",
      "4it [00:00, 35.18it/s, loss=2.72e+3]"
     ]
    },
    {
     "name": "stdout",
     "output_type": "stream",
     "text": [
      "Epoch: 152\n"
     ]
    },
    {
     "name": "stderr",
     "output_type": "stream",
     "text": [
      "800it [00:15, 51.15it/s, loss=2.71e+3]\n",
      "5it [00:00, 44.12it/s, loss=2.68e+3]"
     ]
    },
    {
     "name": "stdout",
     "output_type": "stream",
     "text": [
      "Epoch: 153\n"
     ]
    },
    {
     "name": "stderr",
     "output_type": "stream",
     "text": [
      "800it [00:16, 49.49it/s, loss=2.71e+3]\n",
      "6it [00:00, 52.94it/s, loss=2.7e+3] "
     ]
    },
    {
     "name": "stdout",
     "output_type": "stream",
     "text": [
      "Epoch: 154\n"
     ]
    },
    {
     "name": "stderr",
     "output_type": "stream",
     "text": [
      "800it [00:15, 52.10it/s, loss=2.72e+3]\n",
      "4it [00:00, 37.89it/s, loss=2.73e+3]"
     ]
    },
    {
     "name": "stdout",
     "output_type": "stream",
     "text": [
      "Epoch: 155\n"
     ]
    },
    {
     "name": "stderr",
     "output_type": "stream",
     "text": [
      "800it [00:15, 50.99it/s, loss=2.72e+3]\n",
      "7it [00:00, 63.28it/s, loss=2.71e+3]"
     ]
    },
    {
     "name": "stdout",
     "output_type": "stream",
     "text": [
      "Epoch: 156\n"
     ]
    },
    {
     "name": "stderr",
     "output_type": "stream",
     "text": [
      "800it [00:16, 49.89it/s, loss=2.7e+3] \n",
      "6it [00:00, 50.58it/s, loss=2.72e+3]"
     ]
    },
    {
     "name": "stdout",
     "output_type": "stream",
     "text": [
      "Epoch: 157\n"
     ]
    },
    {
     "name": "stderr",
     "output_type": "stream",
     "text": [
      "800it [00:15, 50.63it/s, loss=2.71e+3]\n",
      "7it [00:00, 63.44it/s, loss=2.7e+3] "
     ]
    },
    {
     "name": "stdout",
     "output_type": "stream",
     "text": [
      "Epoch: 158\n"
     ]
    },
    {
     "name": "stderr",
     "output_type": "stream",
     "text": [
      "800it [00:16, 49.79it/s, loss=2.69e+3]\n",
      "5it [00:00, 45.19it/s, loss=2.73e+3]"
     ]
    },
    {
     "name": "stdout",
     "output_type": "stream",
     "text": [
      "Epoch: 159\n"
     ]
    },
    {
     "name": "stderr",
     "output_type": "stream",
     "text": [
      "800it [00:15, 51.17it/s, loss=2.71e+3]\n",
      "5it [00:00, 43.51it/s, loss=2.72e+3]"
     ]
    },
    {
     "name": "stdout",
     "output_type": "stream",
     "text": [
      "Epoch: 160\n"
     ]
    },
    {
     "name": "stderr",
     "output_type": "stream",
     "text": [
      "800it [00:15, 50.32it/s, loss=2.71e+3]\n",
      "7it [00:00, 64.25it/s, loss=2.71e+3]"
     ]
    },
    {
     "name": "stdout",
     "output_type": "stream",
     "text": [
      "Epoch: 161\n"
     ]
    },
    {
     "name": "stderr",
     "output_type": "stream",
     "text": [
      "800it [00:15, 50.28it/s, loss=2.72e+3]\n",
      "5it [00:00, 46.85it/s, loss=2.73e+3]"
     ]
    },
    {
     "name": "stdout",
     "output_type": "stream",
     "text": [
      "Epoch: 162\n"
     ]
    },
    {
     "name": "stderr",
     "output_type": "stream",
     "text": [
      "800it [00:15, 50.46it/s, loss=2.72e+3]\n",
      "4it [00:00, 35.93it/s, loss=2.7e+3] "
     ]
    },
    {
     "name": "stdout",
     "output_type": "stream",
     "text": [
      "Epoch: 163\n"
     ]
    },
    {
     "name": "stderr",
     "output_type": "stream",
     "text": [
      "800it [00:14, 53.72it/s, loss=2.72e+3]\n",
      "5it [00:00, 45.60it/s, loss=2.69e+3]"
     ]
    },
    {
     "name": "stdout",
     "output_type": "stream",
     "text": [
      "Epoch: 164\n"
     ]
    },
    {
     "name": "stderr",
     "output_type": "stream",
     "text": [
      "800it [00:15, 51.59it/s, loss=2.7e+3] \n",
      "5it [00:00, 49.82it/s, loss=2.7e+3] "
     ]
    },
    {
     "name": "stdout",
     "output_type": "stream",
     "text": [
      "Epoch: 165\n"
     ]
    },
    {
     "name": "stderr",
     "output_type": "stream",
     "text": [
      "800it [00:16, 49.38it/s, loss=2.73e+3]\n",
      "5it [00:00, 48.42it/s, loss=2.7e+3] "
     ]
    },
    {
     "name": "stdout",
     "output_type": "stream",
     "text": [
      "Epoch: 166\n"
     ]
    },
    {
     "name": "stderr",
     "output_type": "stream",
     "text": [
      "800it [00:15, 50.58it/s, loss=2.72e+3]\n",
      "5it [00:00, 49.69it/s, loss=2.72e+3]"
     ]
    },
    {
     "name": "stdout",
     "output_type": "stream",
     "text": [
      "Epoch: 167\n"
     ]
    },
    {
     "name": "stderr",
     "output_type": "stream",
     "text": [
      "800it [00:15, 52.30it/s, loss=2.71e+3]\n",
      "7it [00:00, 64.24it/s, loss=2.71e+3]"
     ]
    },
    {
     "name": "stdout",
     "output_type": "stream",
     "text": [
      "Epoch: 168\n"
     ]
    },
    {
     "name": "stderr",
     "output_type": "stream",
     "text": [
      "800it [00:16, 47.90it/s, loss=2.7e+3] \n",
      "7it [00:00, 62.76it/s, loss=2.71e+3]"
     ]
    },
    {
     "name": "stdout",
     "output_type": "stream",
     "text": [
      "Epoch: 169\n"
     ]
    },
    {
     "name": "stderr",
     "output_type": "stream",
     "text": [
      "800it [00:15, 52.15it/s, loss=2.69e+3]\n",
      "5it [00:00, 39.59it/s, loss=2.73e+3]"
     ]
    },
    {
     "name": "stdout",
     "output_type": "stream",
     "text": [
      "Epoch: 170\n"
     ]
    },
    {
     "name": "stderr",
     "output_type": "stream",
     "text": [
      "800it [00:15, 50.33it/s, loss=2.72e+3]\n",
      "7it [00:00, 63.36it/s, loss=2.72e+3]"
     ]
    },
    {
     "name": "stdout",
     "output_type": "stream",
     "text": [
      "Epoch: 171\n"
     ]
    },
    {
     "name": "stderr",
     "output_type": "stream",
     "text": [
      "800it [00:14, 54.64it/s, loss=2.7e+3] \n",
      "6it [00:00, 54.91it/s, loss=2.7e+3] "
     ]
    },
    {
     "name": "stdout",
     "output_type": "stream",
     "text": [
      "Epoch: 172\n"
     ]
    },
    {
     "name": "stderr",
     "output_type": "stream",
     "text": [
      "800it [00:15, 51.64it/s, loss=2.7e+3] \n",
      "4it [00:00, 35.42it/s, loss=2.68e+3]"
     ]
    },
    {
     "name": "stdout",
     "output_type": "stream",
     "text": [
      "Epoch: 173\n"
     ]
    },
    {
     "name": "stderr",
     "output_type": "stream",
     "text": [
      "800it [00:16, 49.64it/s, loss=2.72e+3]\n",
      "6it [00:00, 56.93it/s, loss=2.75e+3]"
     ]
    },
    {
     "name": "stdout",
     "output_type": "stream",
     "text": [
      "Epoch: 174\n"
     ]
    },
    {
     "name": "stderr",
     "output_type": "stream",
     "text": [
      "800it [00:15, 50.32it/s, loss=2.71e+3]\n",
      "7it [00:00, 62.51it/s, loss=2.73e+3]"
     ]
    },
    {
     "name": "stdout",
     "output_type": "stream",
     "text": [
      "Epoch: 175\n"
     ]
    },
    {
     "name": "stderr",
     "output_type": "stream",
     "text": [
      "800it [00:15, 51.17it/s, loss=2.69e+3]\n",
      "7it [00:00, 62.53it/s, loss=2.69e+3]"
     ]
    },
    {
     "name": "stdout",
     "output_type": "stream",
     "text": [
      "Epoch: 176\n"
     ]
    },
    {
     "name": "stderr",
     "output_type": "stream",
     "text": [
      "800it [00:15, 52.11it/s, loss=2.72e+3]\n",
      "6it [00:00, 59.62it/s, loss=2.73e+3]"
     ]
    },
    {
     "name": "stdout",
     "output_type": "stream",
     "text": [
      "Epoch: 177\n"
     ]
    },
    {
     "name": "stderr",
     "output_type": "stream",
     "text": [
      "800it [00:16, 49.06it/s, loss=2.69e+3]\n",
      "5it [00:00, 43.94it/s, loss=2.72e+3]"
     ]
    },
    {
     "name": "stdout",
     "output_type": "stream",
     "text": [
      "Epoch: 178\n"
     ]
    },
    {
     "name": "stderr",
     "output_type": "stream",
     "text": [
      "800it [00:16, 49.67it/s, loss=2.73e+3]\n",
      "7it [00:00, 63.52it/s, loss=2.7e+3] "
     ]
    },
    {
     "name": "stdout",
     "output_type": "stream",
     "text": [
      "Epoch: 179\n"
     ]
    },
    {
     "name": "stderr",
     "output_type": "stream",
     "text": [
      "800it [00:15, 51.03it/s, loss=2.69e+3]\n",
      "7it [00:00, 63.68it/s, loss=2.7e+3] "
     ]
    },
    {
     "name": "stdout",
     "output_type": "stream",
     "text": [
      "Epoch: 180\n"
     ]
    },
    {
     "name": "stderr",
     "output_type": "stream",
     "text": [
      "800it [00:15, 53.07it/s, loss=2.72e+3]\n",
      "7it [00:00, 61.75it/s, loss=2.7e+3] "
     ]
    },
    {
     "name": "stdout",
     "output_type": "stream",
     "text": [
      "Epoch: 181\n"
     ]
    },
    {
     "name": "stderr",
     "output_type": "stream",
     "text": [
      "800it [00:16, 49.99it/s, loss=2.73e+3]\n",
      "6it [00:00, 46.68it/s, loss=2.68e+3]"
     ]
    },
    {
     "name": "stdout",
     "output_type": "stream",
     "text": [
      "Epoch: 182\n"
     ]
    },
    {
     "name": "stderr",
     "output_type": "stream",
     "text": [
      "800it [00:14, 53.41it/s, loss=2.68e+3]\n",
      "6it [00:00, 58.62it/s, loss=2.7e+3] "
     ]
    },
    {
     "name": "stdout",
     "output_type": "stream",
     "text": [
      "Epoch: 183\n"
     ]
    },
    {
     "name": "stderr",
     "output_type": "stream",
     "text": [
      "800it [00:15, 50.75it/s, loss=2.71e+3]\n",
      "4it [00:00, 38.88it/s, loss=2.68e+3]"
     ]
    },
    {
     "name": "stdout",
     "output_type": "stream",
     "text": [
      "Epoch: 184\n"
     ]
    },
    {
     "name": "stderr",
     "output_type": "stream",
     "text": [
      "800it [00:15, 51.84it/s, loss=2.72e+3]\n",
      "5it [00:00, 46.46it/s, loss=2.71e+3]"
     ]
    },
    {
     "name": "stdout",
     "output_type": "stream",
     "text": [
      "Epoch: 185\n"
     ]
    },
    {
     "name": "stderr",
     "output_type": "stream",
     "text": [
      "800it [00:15, 52.63it/s, loss=2.71e+3]\n",
      "7it [00:00, 64.71it/s, loss=2.69e+3]"
     ]
    },
    {
     "name": "stdout",
     "output_type": "stream",
     "text": [
      "Epoch: 186\n"
     ]
    },
    {
     "name": "stderr",
     "output_type": "stream",
     "text": [
      "800it [00:16, 49.77it/s, loss=2.74e+3]\n",
      "7it [00:00, 58.44it/s, loss=2.69e+3]"
     ]
    },
    {
     "name": "stdout",
     "output_type": "stream",
     "text": [
      "Epoch: 187\n"
     ]
    },
    {
     "name": "stderr",
     "output_type": "stream",
     "text": [
      "800it [00:16, 49.53it/s, loss=2.74e+3]\n",
      "5it [00:00, 48.42it/s, loss=2.7e+3] "
     ]
    },
    {
     "name": "stdout",
     "output_type": "stream",
     "text": [
      "Epoch: 188\n"
     ]
    },
    {
     "name": "stderr",
     "output_type": "stream",
     "text": [
      "800it [00:16, 49.49it/s, loss=2.72e+3]\n",
      "6it [00:00, 55.31it/s, loss=2.72e+3]"
     ]
    },
    {
     "name": "stdout",
     "output_type": "stream",
     "text": [
      "Epoch: 189\n"
     ]
    },
    {
     "name": "stderr",
     "output_type": "stream",
     "text": [
      "800it [00:15, 52.78it/s, loss=2.69e+3]\n",
      "7it [00:00, 62.85it/s, loss=2.72e+3]"
     ]
    },
    {
     "name": "stdout",
     "output_type": "stream",
     "text": [
      "Epoch: 190\n"
     ]
    },
    {
     "name": "stderr",
     "output_type": "stream",
     "text": [
      "800it [00:15, 51.21it/s, loss=2.72e+3]\n",
      "7it [00:00, 64.10it/s, loss=2.74e+3]"
     ]
    },
    {
     "name": "stdout",
     "output_type": "stream",
     "text": [
      "Epoch: 191\n"
     ]
    },
    {
     "name": "stderr",
     "output_type": "stream",
     "text": [
      "800it [00:14, 55.00it/s, loss=2.72e+3]\n",
      "7it [00:00, 64.11it/s, loss=2.71e+3]"
     ]
    },
    {
     "name": "stdout",
     "output_type": "stream",
     "text": [
      "Epoch: 192\n"
     ]
    },
    {
     "name": "stderr",
     "output_type": "stream",
     "text": [
      "800it [00:14, 53.68it/s, loss=2.7e+3] \n",
      "4it [00:00, 38.06it/s, loss=2.71e+3]"
     ]
    },
    {
     "name": "stdout",
     "output_type": "stream",
     "text": [
      "Epoch: 193\n"
     ]
    },
    {
     "name": "stderr",
     "output_type": "stream",
     "text": [
      "800it [00:15, 52.42it/s, loss=2.72e+3]\n",
      "7it [00:00, 61.06it/s, loss=2.72e+3]"
     ]
    },
    {
     "name": "stdout",
     "output_type": "stream",
     "text": [
      "Epoch: 194\n"
     ]
    },
    {
     "name": "stderr",
     "output_type": "stream",
     "text": [
      "800it [00:15, 51.64it/s, loss=2.7e+3] \n",
      "4it [00:00, 38.69it/s, loss=2.69e+3]"
     ]
    },
    {
     "name": "stdout",
     "output_type": "stream",
     "text": [
      "Epoch: 195\n"
     ]
    },
    {
     "name": "stderr",
     "output_type": "stream",
     "text": [
      "800it [00:15, 52.16it/s, loss=2.72e+3]\n",
      "7it [00:00, 61.18it/s, loss=2.7e+3] "
     ]
    },
    {
     "name": "stdout",
     "output_type": "stream",
     "text": [
      "Epoch: 196\n"
     ]
    },
    {
     "name": "stderr",
     "output_type": "stream",
     "text": [
      "800it [00:16, 49.55it/s, loss=2.7e+3] \n",
      "5it [00:00, 46.89it/s, loss=2.7e+3] "
     ]
    },
    {
     "name": "stdout",
     "output_type": "stream",
     "text": [
      "Epoch: 197\n"
     ]
    },
    {
     "name": "stderr",
     "output_type": "stream",
     "text": [
      "800it [00:15, 50.97it/s, loss=2.71e+3]\n",
      "5it [00:00, 48.91it/s, loss=2.71e+3]"
     ]
    },
    {
     "name": "stdout",
     "output_type": "stream",
     "text": [
      "Epoch: 198\n"
     ]
    },
    {
     "name": "stderr",
     "output_type": "stream",
     "text": [
      "800it [00:15, 50.01it/s, loss=2.69e+3]\n",
      "5it [00:00, 49.96it/s, loss=2.7e+3] "
     ]
    },
    {
     "name": "stdout",
     "output_type": "stream",
     "text": [
      "Epoch: 199\n"
     ]
    },
    {
     "name": "stderr",
     "output_type": "stream",
     "text": [
      "800it [00:15, 52.70it/s, loss=2.75e+3]\n"
     ]
    }
   ],
   "source": [
    "# Start Training\n",
    "for epoch in range(NUM_EPOCHS):\n",
    "    loop = tqdm(enumerate(train_loader))\n",
    "    print(f'Epoch: {epoch}')\n",
    "    for i, (x, _) in loop:\n",
    "        # forward pass\n",
    "        x = x.to(DEVICE).view(1, INPUT_DIM, INPUT_DIM)\n",
    "        x_reconstructed, mu, sigma = model(x)\n",
    "        \n",
    "        # compute loss\n",
    "        reconstruction_loss = loss_fn(x_reconstructed, x)\n",
    "        kl_div = -torch.sum(1 + torch.log(sigma.pow(2)) - mu.pow(2) - sigma.pow(2))\n",
    "        \n",
    "        # backpropagation\n",
    "        loss = reconstruction_loss + kl_div\n",
    "        optimizer.zero_grad()\n",
    "        loss.backward()\n",
    "        optimizer.step()\n",
    "        loop.set_postfix(loss=loss.item())"
   ]
  },
  {
   "cell_type": "markdown",
   "id": "23985f54",
   "metadata": {},
   "source": [
    "### saving the model"
   ]
  },
  {
   "cell_type": "code",
   "execution_count": 21,
   "id": "31432350",
   "metadata": {},
   "outputs": [],
   "source": [
    "torch.save(model.state_dict(), 'models/model_1')"
   ]
  },
  {
   "cell_type": "markdown",
   "id": "9502b2a8",
   "metadata": {},
   "source": [
    "### loading the model"
   ]
  },
  {
   "cell_type": "code",
   "execution_count": 30,
   "id": "8bb41e49",
   "metadata": {},
   "outputs": [
    {
     "data": {
      "text/plain": [
       "VariationalAutoEncoder(\n",
       "  (enc1): Conv2d(1, 8, kernel_size=(4, 4), stride=(2, 2), padding=(1, 1))\n",
       "  (enc2): Conv2d(8, 16, kernel_size=(4, 4), stride=(2, 2), padding=(1, 1))\n",
       "  (enc3): Conv2d(16, 32, kernel_size=(4, 4), stride=(2, 2), padding=(1, 1))\n",
       "  (enc4): Conv2d(32, 64, kernel_size=(4, 4), stride=(2, 2))\n",
       "  (fc1): Linear(in_features=576, out_features=128, bias=True)\n",
       "  (fc_mu): Linear(in_features=128, out_features=3, bias=True)\n",
       "  (fc_log_var): Linear(in_features=128, out_features=3, bias=True)\n",
       "  (fc2): Linear(in_features=3, out_features=64, bias=True)\n",
       "  (dec1): ConvTranspose2d(64, 64, kernel_size=(4, 4), stride=(1, 1))\n",
       "  (dec2): ConvTranspose2d(64, 32, kernel_size=(4, 4), stride=(2, 2), padding=(1, 1))\n",
       "  (dec3): ConvTranspose2d(32, 16, kernel_size=(4, 4), stride=(2, 2), padding=(1, 1))\n",
       "  (dec4): ConvTranspose2d(16, 8, kernel_size=(4, 4), stride=(2, 2), padding=(1, 1))\n",
       "  (dec5): ConvTranspose2d(8, 1, kernel_size=(4, 4), stride=(2, 2), padding=(1, 1))\n",
       "  (dec6): ConvTranspose2d(1, 1, kernel_size=(4, 4), stride=(2, 2), padding=(1, 1))\n",
       "  (relu): ReLU()\n",
       ")"
      ]
     },
     "execution_count": 30,
     "metadata": {},
     "output_type": "execute_result"
    }
   ],
   "source": [
    "model = VariationalAutoEncoder(init_dim=INIT_DIM, latent_dim=LATENT_DIM, kernel_size=KERNEL_SIZE)\n",
    "model.load_state_dict(torch.load('models/model_1'))\n",
    "model.eval()"
   ]
  },
  {
   "cell_type": "markdown",
   "id": "9b0cfbcf",
   "metadata": {},
   "source": [
    "### generating images"
   ]
  },
  {
   "cell_type": "code",
   "execution_count": 39,
   "id": "dd4d56a5",
   "metadata": {},
   "outputs": [],
   "source": [
    "def inference(num_examples=20):\n",
    "    idx = np.random.choice(range(0,800),num_examples,replace=True) # sampling from dataset\n",
    "    for example,i in zip(range(num_examples),idx):\n",
    "        image = dataset[i][0]\n",
    "        with torch.no_grad():\n",
    "            mu, sigma = model.encode(image.view(1,64,64)) # getting encoding of each image\n",
    "        epsilon = torch.randn_like(sigma)\n",
    "        z = mu + sigma*epsilon\n",
    "        out = model.decode(z) # generating new image from the encoding\n",
    "        out = out.view(-1, 1, 64, 64)\n",
    "        save_image(out, f'output/img_{i}.png')"
   ]
  },
  {
   "cell_type": "code",
   "execution_count": 40,
   "id": "8b345921",
   "metadata": {},
   "outputs": [],
   "source": [
    "inference()"
   ]
  },
  {
   "cell_type": "code",
   "execution_count": null,
   "id": "e23d340b",
   "metadata": {},
   "outputs": [],
   "source": []
  }
 ],
 "metadata": {
  "kernelspec": {
   "display_name": "Python 3 (ipykernel)",
   "language": "python",
   "name": "python3"
  },
  "language_info": {
   "codemirror_mode": {
    "name": "ipython",
    "version": 3
   },
   "file_extension": ".py",
   "mimetype": "text/x-python",
   "name": "python",
   "nbconvert_exporter": "python",
   "pygments_lexer": "ipython3",
   "version": "3.10.12"
  }
 },
 "nbformat": 4,
 "nbformat_minor": 5
}
