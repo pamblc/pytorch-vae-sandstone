{
 "cells": [
  {
   "cell_type": "code",
   "execution_count": 1,
   "id": "d6c2b741",
   "metadata": {},
   "outputs": [],
   "source": [
    "import torch\n",
    "import torchvision.datasets as datasets\n",
    "from tqdm import tqdm\n",
    "from torch import nn\n",
    "from ipynb.fs.full.model import VariationalAutoEncoder\n",
    "from torchvision import transforms\n",
    "from torchvision.utils import save_image  \n",
    "from torch.utils.data import DataLoader, RandomSampler\n",
    "import numpy as np\n",
    "import matplotlib.pyplot as plt\n",
    "import os\n",
    "from mpl_toolkits import mplot3d\n",
    "import cv2\n",
    "from moviepy.editor import ImageSequenceClip\n",
    "\n",
    "from typing import Any, Dict, List, Optional, Tuple, Union"
   ]
  },
  {
   "cell_type": "markdown",
   "id": "b3b44667",
   "metadata": {},
   "source": [
    "### Importing the model"
   ]
  },
  {
   "cell_type": "code",
   "execution_count": 2,
   "id": "7c2668bf",
   "metadata": {},
   "outputs": [],
   "source": [
    "DEVICE = torch.device('cuda' if torch.cuda.is_available() else 'cpu')\n",
    "INPUT_DIM = 256\n",
    "INIT_DIM = 8\n",
    "LATENT_DIM = 3\n",
    "NUM_EPOCHS = 50\n",
    "BATCH_SIZE = 1\n",
    "LR_RATE = 3e-4\n",
    "KERNEL_SIZE = 4"
   ]
  },
  {
   "cell_type": "code",
   "execution_count": 4,
   "id": "d9e95959",
   "metadata": {},
   "outputs": [],
   "source": [
    "# Dataset Loading\n",
    "data_path = 'test_set' # setting path\n",
    "transform = transforms.Compose([transforms.Resize((INPUT_DIM, INPUT_DIM)),   # sequence of transformations to be done\n",
    "                                transforms.Grayscale(num_output_channels=1), # on each image (resize, greyscale,\n",
    "                                transforms.ToTensor()])                      # convert to tensor)\n",
    "\n",
    "dataset = datasets.ImageFolder(root=data_path, transform=transform) # read data from folder\n",
    "\n",
    "train_loader = DataLoader(dataset=dataset, batch_size=BATCH_SIZE, shuffle=True) # create dataloader object\n",
    "\n",
    "model = VariationalAutoEncoder(init_dim=INIT_DIM, latent_dim=LATENT_DIM, kernel_size=KERNEL_SIZE).to(DEVICE) # initializing model object\n",
    "\n",
    "optimizer = torch.optim.Adam(model.parameters(), lr=LR_RATE) # defining optimizer\n",
    "loss_fn = nn.BCELoss(reduction='sum') # define loss function"
   ]
  },
  {
   "cell_type": "code",
   "execution_count": 5,
   "id": "071ac4cb",
   "metadata": {},
   "outputs": [
    {
     "data": {
      "text/plain": [
       "<All keys matched successfully>"
      ]
     },
     "execution_count": 5,
     "metadata": {},
     "output_type": "execute_result"
    }
   ],
   "source": [
    "model = VariationalAutoEncoder(init_dim=INIT_DIM, latent_dim=LATENT_DIM, kernel_size=KERNEL_SIZE)\n",
    "model.load_state_dict(torch.load('models/model_256x'))"
   ]
  },
  {
   "cell_type": "markdown",
   "id": "de9ab2c6",
   "metadata": {},
   "source": [
    "### Generating stack from image A to image B"
   ]
  },
  {
   "cell_type": "markdown",
   "id": "9b55a195",
   "metadata": {},
   "source": [
    "Defining some helper functions:"
   ]
  },
  {
   "cell_type": "code",
   "execution_count": 6,
   "id": "75bb48a3",
   "metadata": {},
   "outputs": [],
   "source": [
    "def get_random_sample(mu: torch.tensor, sigma: torch.tensor) -> torch.tensor: # from the mean and standard deviation generate a random sample from distribution\n",
    "    epsilon = torch.randn_like(sigma)\n",
    "    sample = mu + sigma*epsilon\n",
    "    return sample\n",
    "\n",
    "def reconstruct(z: torch.tensor) -> np.array: # takes the sample and decodes it into a image\n",
    "    out = model.decode(z) # decode sample\n",
    "    out = out.view(-1, 1, 256, 256) # reshape it to a image\n",
    "    save_image(out, 'temp.png') # save temporary image to png\n",
    "    out = cv2.imread('temp.png') # read from saved png\n",
    "    os.remove('temp.png') # delete temporary image (this is done because when I tried to convert it directly to numpy array the image got worse)\n",
    "    return out"
   ]
  },
  {
   "cell_type": "code",
   "execution_count": 7,
   "id": "ac9eed65",
   "metadata": {},
   "outputs": [],
   "source": [
    "def function(img_A: torch.tensor,img_B: torch.tensor, n_steps: int, path: str) -> list[np.array]:\n",
    "    \n",
    "    # encoding the images\n",
    "    with torch.no_grad():\n",
    "        mu_A, sigma_A = model.encode(img_A.view(1,256,256))\n",
    "        mu_B, sigma_B = model.encode(img_B.view(1,256,256))\n",
    "        \n",
    "    # getting random sample using the encodings\n",
    "    z_A = get_random_sample(mu_A, sigma_A)\n",
    "    z_B = get_random_sample(mu_B, sigma_B)\n",
    "    \n",
    "    # generating the steps from img A to img B\n",
    "    alpha = np.linspace(0, 1, n_steps)\n",
    "    zs = [(1-a)*z_A + a*z_B for a in alpha] # get latent vector from each step\n",
    "    \n",
    "    # generating the images for each step\n",
    "    frames = []\n",
    "    for i,z in enumerate(zs):\n",
    "        img = reconstruct(z) # reconstruct image from latent vector\n",
    "        thresh = 127\n",
    "        frame = cv2.threshold(img, thresh, 255, cv2.THRESH_BINARY)[1] # binarize the image\n",
    "        frames.append(frame)\n",
    "    return frames"
   ]
  },
  {
   "cell_type": "code",
   "execution_count": 55,
   "id": "97127192",
   "metadata": {},
   "outputs": [],
   "source": [
    "def generate_stack(img_index: list[int], n_steps: int, path: str) -> list[np.array]:\n",
    "    \n",
    "    # creating folder for saving images and gif\n",
    "    try:\n",
    "        os.mkdir(path)\n",
    "        os.mkdir(path+'/generated_images')\n",
    "        os.mkdir(path+'/real_images')\n",
    "    except:\n",
    "        print(\"Folder already exists\")\n",
    "    else:\n",
    "        print(f\"Folder {path} was created\")\n",
    "    \n",
    "    # generating slices between the passed images\n",
    "    images = [dataset[i][0] for i in img_index]\n",
    "    frames = []\n",
    "    for i in tqdm(range(1, len(images))):\n",
    "        new_frames = function(images[i-1], images[i], n_steps, path)\n",
    "        frames += new_frames\n",
    "        \n",
    "    print(f'{len(frames)} images were generated')\n",
    "    \n",
    "    for i,frame in enumerate(frames):\n",
    "        # saving frames\n",
    "        plt.imsave(f'{path}/generated_images/{i}.png', frame)\n",
    "        \n",
    "        # labeling the frame for the gif\n",
    "        text = f'{i}'\n",
    "        pos = (0,250)\n",
    "        font = cv2.FONT_HERSHEY_SIMPLEX\n",
    "        frame = cv2.putText(frame, text, org=pos, color=(255,0,0), fontFace = font, fontScale = .5)\n",
    "    \n",
    "    # writing gif\n",
    "    clip = ImageSequenceClip(list(frames), fps=60)\n",
    "    clip.write_gif(f'{path}/animation.gif', fps=60)\n",
    "    \n",
    "    print('Gif was created')\n",
    "        \n",
    "    return frames"
   ]
  },
  {
   "cell_type": "code",
   "execution_count": 56,
   "id": "14648eb4",
   "metadata": {},
   "outputs": [
    {
     "name": "stdout",
     "output_type": "stream",
     "text": [
      "Folder output/gifs/test_0_175_25 was created\n"
     ]
    },
    {
     "name": "stderr",
     "output_type": "stream",
     "text": [
      "100%|█████████████████████████████████████████████| 9/9 [00:01<00:00,  4.55it/s]\n"
     ]
    },
    {
     "name": "stdout",
     "output_type": "stream",
     "text": [
      "180 images were generated\n",
      "MoviePy - Building file output/gifs/test_0_175_25/animation.gif with imageio.\n"
     ]
    },
    {
     "name": "stderr",
     "output_type": "stream",
     "text": [
      "                                                                                \r"
     ]
    },
    {
     "name": "stdout",
     "output_type": "stream",
     "text": [
      "Gif was created\n"
     ]
    }
   ],
   "source": [
    "slices = generate_stack(steps, 20, 'output/gifs/test_0_175_25')"
   ]
  },
  {
   "cell_type": "code",
   "execution_count": 58,
   "id": "d02a2c70",
   "metadata": {},
   "outputs": [
    {
     "data": {
      "text/plain": [
       "[0, 20, 40, 60, 80, 100, 120, 140, 160, 180]"
      ]
     },
     "execution_count": 58,
     "metadata": {},
     "output_type": "execute_result"
    }
   ],
   "source": [
    "steps"
   ]
  },
  {
   "cell_type": "code",
   "execution_count": 42,
   "id": "28408a54",
   "metadata": {},
   "outputs": [
    {
     "data": {
      "text/plain": [
       "[0, 20, 40, 60, 80, 100, 120, 140, 160, 180]"
      ]
     },
     "execution_count": 42,
     "metadata": {},
     "output_type": "execute_result"
    }
   ],
   "source": [
    "steps = [i for i in range(200)]\n",
    "steps = steps[::int(np.ceil(len(x)/10))]\n",
    "steps"
   ]
  },
  {
   "cell_type": "code",
   "execution_count": 57,
   "id": "b6e4342b",
   "metadata": {},
   "outputs": [
    {
     "name": "stdout",
     "output_type": "stream",
     "text": [
      "MoviePy - Building file output/gifs/test_0_175_25/real_images/animation.gif with imageio.\n"
     ]
    },
    {
     "name": "stderr",
     "output_type": "stream",
     "text": [
      "                                                                                \r"
     ]
    }
   ],
   "source": [
    "paths = sorted(os.listdir('test_set/0'))[:200]\n",
    "frames = []\n",
    "for i,path in enumerate(paths):\n",
    "    img = cv2.imread(f'test_set/0/{path}')\n",
    "    img = cv2.resize(img,(256,256))\n",
    "    thresh = 127\n",
    "    im_bw = cv2.threshold(img, thresh, 255, cv2.THRESH_BINARY)[1]\n",
    "    plt.imsave(f'output/gifs/test_0_175_25/real_images/{i}.png', im_bw)\n",
    "    \n",
    "    # labeling the frame for the gif\n",
    "    text = f'{i}'\n",
    "    pos = (0,250)\n",
    "    font = cv2.FONT_HERSHEY_SIMPLEX\n",
    "    frame = cv2.putText(im_bw, text, org=pos, color=(255,0,0), fontFace = font, fontScale = .5)\n",
    "    frames.append(frame)\n",
    "    \n",
    "clip = ImageSequenceClip(frames, fps=60)\n",
    "clip.write_gif(f'output/gifs/test_0_175_25/real_images/animation.gif', fps=60)"
   ]
  },
  {
   "cell_type": "code",
   "execution_count": 51,
   "id": "eaa16988",
   "metadata": {},
   "outputs": [
    {
     "data": {
      "text/plain": [
       "array([  0,  25,  50,  75, 100, 125, 150, 175, 200])"
      ]
     },
     "execution_count": 51,
     "metadata": {},
     "output_type": "execute_result"
    }
   ],
   "source": [
    "np.arange(1, 200+2, 25) - 1"
   ]
  },
  {
   "cell_type": "code",
   "execution_count": null,
   "id": "0ed7a7aa",
   "metadata": {},
   "outputs": [],
   "source": []
  }
 ],
 "metadata": {
  "kernelspec": {
   "display_name": "Python 3 (ipykernel)",
   "language": "python",
   "name": "python3"
  },
  "language_info": {
   "codemirror_mode": {
    "name": "ipython",
    "version": 3
   },
   "file_extension": ".py",
   "mimetype": "text/x-python",
   "name": "python",
   "nbconvert_exporter": "python",
   "pygments_lexer": "ipython3",
   "version": "3.10.12"
  }
 },
 "nbformat": 4,
 "nbformat_minor": 5
}
