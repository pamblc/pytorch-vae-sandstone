{
 "cells": [
  {
   "cell_type": "code",
   "execution_count": 19,
   "id": "d6c2b741",
   "metadata": {},
   "outputs": [],
   "source": [
    "import torch\n",
    "import torchvision.datasets as datasets\n",
    "from tqdm import tqdm\n",
    "from torch import nn\n",
    "from ipynb.fs.full.model import VariationalAutoEncoder\n",
    "from torchvision import transforms\n",
    "from torchvision.utils import save_image  \n",
    "from torch.utils.data import DataLoader, RandomSampler\n",
    "import numpy as np\n",
    "import matplotlib.pyplot as plt\n",
    "import os\n",
    "from mpl_toolkits import mplot3d\n",
    "import cv2\n",
    "from moviepy.editor import ImageSequenceClip"
   ]
  },
  {
   "cell_type": "markdown",
   "id": "b3b44667",
   "metadata": {},
   "source": [
    "### Importing the model"
   ]
  },
  {
   "cell_type": "code",
   "execution_count": 2,
   "id": "7c2668bf",
   "metadata": {},
   "outputs": [],
   "source": [
    "DEVICE = torch.device('cuda' if torch.cuda.is_available() else 'cpu')\n",
    "INPUT_DIM = 256\n",
    "INIT_DIM = 8\n",
    "LATENT_DIM = 3\n",
    "NUM_EPOCHS = 50\n",
    "BATCH_SIZE = 1\n",
    "LR_RATE = 3e-4\n",
    "KERNEL_SIZE = 4"
   ]
  },
  {
   "cell_type": "code",
   "execution_count": 3,
   "id": "d9e95959",
   "metadata": {},
   "outputs": [],
   "source": [
    "# Dataset Loading\n",
    "data_path = 'dataset' # setting path\n",
    "transform = transforms.Compose([transforms.Resize((INPUT_DIM, INPUT_DIM)),   # sequence of transformations to be done\n",
    "                                transforms.Grayscale(num_output_channels=1), # on each image (resize, greyscale,\n",
    "                                transforms.ToTensor()])                      # convert to tensor)\n",
    "\n",
    "dataset = datasets.ImageFolder(root=data_path, transform=transform) # read data from folder\n",
    "\n",
    "train_loader = DataLoader(dataset=dataset, batch_size=BATCH_SIZE, shuffle=True) # create dataloader object\n",
    "\n",
    "model = VariationalAutoEncoder(init_dim=INIT_DIM, latent_dim=LATENT_DIM, kernel_size=KERNEL_SIZE).to(DEVICE) # initializing model object\n",
    "\n",
    "optimizer = torch.optim.Adam(model.parameters(), lr=LR_RATE) # defining optimizer\n",
    "loss_fn = nn.BCELoss(reduction='sum') # define loss function"
   ]
  },
  {
   "cell_type": "code",
   "execution_count": 5,
   "id": "071ac4cb",
   "metadata": {},
   "outputs": [
    {
     "data": {
      "text/plain": [
       "<All keys matched successfully>"
      ]
     },
     "execution_count": 5,
     "metadata": {},
     "output_type": "execute_result"
    }
   ],
   "source": [
    "model = VariationalAutoEncoder(init_dim=INIT_DIM, latent_dim=LATENT_DIM, kernel_size=KERNEL_SIZE)\n",
    "model.load_state_dict(torch.load('models/model_256x'))"
   ]
  },
  {
   "cell_type": "markdown",
   "id": "de9ab2c6",
   "metadata": {},
   "source": [
    "### Generating stack from image A to image B"
   ]
  },
  {
   "cell_type": "code",
   "execution_count": 6,
   "id": "48213d0a",
   "metadata": {},
   "outputs": [],
   "source": [
    "def get_random_sample(mu, sigma):\n",
    "    epsilon = torch.randn_like(sigma)\n",
    "    sample = mu + sigma*epsilon\n",
    "    return sample"
   ]
  },
  {
   "cell_type": "code",
   "execution_count": 14,
   "id": "bdba0f99",
   "metadata": {},
   "outputs": [],
   "source": [
    "def reconstruct(z): # img is a tensor\n",
    "    out = model.decode(z)\n",
    "    out = out.view(-1, 1, 256, 256)\n",
    "    save_image(out, 'temp.png')\n",
    "    out = cv2.imread('temp.png')\n",
    "    os.remove('temp.png')\n",
    "    return out"
   ]
  },
  {
   "cell_type": "code",
   "execution_count": 130,
   "id": "ac9eed65",
   "metadata": {},
   "outputs": [],
   "source": [
    "def generate_stack(img_A,img_B,n_steps=20):\n",
    "    \n",
    "    with torch.no_grad():\n",
    "        mu_A, sigma_A = model.encode(img_A.view(1,256,256)) # encoding of img A\n",
    "        mu_B, sigma_B = model.encode(img_B.view(1,256,256)) # encoding of img B\n",
    "        \n",
    "    \n",
    "    z_A = get_random_sample(mu_A, sigma_A)\n",
    "    z_B = get_random_sample(mu_B, sigma_B)\n",
    "\n",
    "    reconstructed_A = reconstruct(z_A)\n",
    "    reconstructed_B = reconstruct(z_B)\n",
    "\n",
    "    alpha = np.linspace(0, 1, n_steps)\n",
    "    zs = [(1-a)*z_A + a*z_B for a in alpha]\n",
    "    \n",
    "    frames = []\n",
    "    for i,z in enumerate(zs):\n",
    "        img = reconstruct(z)\n",
    "        thresh = 127\n",
    "        im_bw = cv2.threshold(img, thresh, 255, cv2.THRESH_BINARY)[1]\n",
    "        plt.imsave(f'output/interpolation/{i}.png', im_bw)\n",
    "        \n",
    "        # labeling the frame for the gif\n",
    "        text = f'{i}'\n",
    "        pos = (0,250)\n",
    "        font = cv2.FONT_HERSHEY_SIMPLEX\n",
    "        frame = cv2.putText(im_bw, text, org=pos, color=(255,0,0), fontFace = font, fontScale = .5)\n",
    "        frames.append(frame)\n",
    "    frames = np.array(frames)\n",
    "        \n",
    "    clip = ImageSequenceClip(list(frames), fps=60)\n",
    "    clip.write_gif(f'output/interpolation/interpolation_{n_steps}.gif', fps=60)\n",
    "    return frames, zs"
   ]
  },
  {
   "cell_type": "code",
   "execution_count": 131,
   "id": "044f831b",
   "metadata": {},
   "outputs": [
    {
     "name": "stdout",
     "output_type": "stream",
     "text": [
      "MoviePy - Building file output/interpolation/interpolation_200.gif with imageio.\n"
     ]
    },
    {
     "name": "stderr",
     "output_type": "stream",
     "text": [
      "                                                                                \r"
     ]
    }
   ],
   "source": [
    "frames, zs = generate_stack(dataset[0][0], dataset[200][0], 200)"
   ]
  },
  {
   "cell_type": "code",
   "execution_count": 134,
   "id": "b6e4342b",
   "metadata": {},
   "outputs": [
    {
     "name": "stdout",
     "output_type": "stream",
     "text": [
      "MoviePy - Building file output/interpolation/realdata_256.gif with imageio.\n"
     ]
    },
    {
     "name": "stderr",
     "output_type": "stream",
     "text": [
      "                                                                                                                                                              \r"
     ]
    }
   ],
   "source": [
    "paths = sorted(os.listdir('dataset/0'))[:200]\n",
    "frames = []\n",
    "for i,path in enumerate(paths):\n",
    "    img = cv2.imread(f'dataset/0/{path}')\n",
    "    img = cv2.resize(img,(256,256))\n",
    "    thresh = 127\n",
    "    im_bw = cv2.threshold(img, thresh, 255, cv2.THRESH_BINARY)[1]\n",
    "    plt.imsave(f'output/interpolation/realdata/{i}.png', im_bw)\n",
    "    \n",
    "    # labeling the frame for the gif\n",
    "    text = f'{i}'\n",
    "    pos = (0,250)\n",
    "    font = cv2.FONT_HERSHEY_SIMPLEX\n",
    "    frame = cv2.putText(im_bw, text, org=pos, color=(255,0,0), fontFace = font, fontScale = .5)\n",
    "    frames.append(frame)\n",
    "    \n",
    "clip = ImageSequenceClip(frames, fps=60)\n",
    "clip.write_gif(f'output/interpolation/realdata_256.gif', fps=60)"
   ]
  },
  {
   "cell_type": "code",
   "execution_count": null,
   "id": "0ed7a7aa",
   "metadata": {},
   "outputs": [],
   "source": []
  }
 ],
 "metadata": {
  "kernelspec": {
   "display_name": "Python 3 (ipykernel)",
   "language": "python",
   "name": "python3"
  },
  "language_info": {
   "codemirror_mode": {
    "name": "ipython",
    "version": 3
   },
   "file_extension": ".py",
   "mimetype": "text/x-python",
   "name": "python",
   "nbconvert_exporter": "python",
   "pygments_lexer": "ipython3",
   "version": "3.10.12"
  }
 },
 "nbformat": 4,
 "nbformat_minor": 5
}
