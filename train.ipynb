{
 "cells": [
  {
   "cell_type": "code",
   "execution_count": 3,
   "id": "4ffdb59d",
   "metadata": {},
   "outputs": [],
   "source": [
    "import torch\n",
    "import torchvision.datasets as datasets\n",
    "from tqdm import tqdm\n",
    "from torch import nn\n",
    "from ipynb.fs.full.model import VariationalAutoEncoder\n",
    "from torchvision import transforms\n",
    "from torchvision.utils import save_image  \n",
    "from torch.utils.data import DataLoader, RandomSampler\n",
    "import numpy as np\n",
    "import matplotlib.pyplot as plt"
   ]
  },
  {
   "cell_type": "markdown",
   "id": "73e79965",
   "metadata": {},
   "source": [
    "### configuration"
   ]
  },
  {
   "cell_type": "code",
   "execution_count": 4,
   "id": "130b2026",
   "metadata": {},
   "outputs": [],
   "source": [
    "DEVICE = torch.device('cuda' if torch.cuda.is_available() else 'cpu')\n",
    "INPUT_DIM = 256\n",
    "INIT_DIM = 8\n",
    "LATENT_DIM = 3\n",
    "NUM_EPOCHS = 10\n",
    "BATCH_SIZE = 1\n",
    "LR_RATE = 3e-4\n",
    "KERNEL_SIZE = 4"
   ]
  },
  {
   "cell_type": "markdown",
   "id": "edeb8e30",
   "metadata": {},
   "source": [
    "### loading dataset"
   ]
  },
  {
   "cell_type": "code",
   "execution_count": 5,
   "id": "34f3c503",
   "metadata": {},
   "outputs": [],
   "source": [
    "# Dataset Loading\n",
    "data_path = 'dataset' # setting path\n",
    "transform = transforms.Compose([transforms.Resize((INPUT_DIM, INPUT_DIM)),   # sequence of transformations to be done\n",
    "                                transforms.Grayscale(num_output_channels=1), # on each image (resize, greyscale,\n",
    "                                transforms.ToTensor()])                      # convert to tensor)\n",
    "\n",
    "dataset = datasets.ImageFolder(root=data_path, transform=transform) # read data from folder\n",
    "\n",
    "train_loader = DataLoader(dataset=dataset, batch_size=BATCH_SIZE, shuffle=True) # create dataloader object\n",
    "\n",
    "model = VariationalAutoEncoder(init_dim=INIT_DIM, latent_dim=LATENT_DIM, kernel_size=KERNEL_SIZE).to(DEVICE) # initializing model object\n",
    "\n",
    "optimizer = torch.optim.Adam(model.parameters(), lr=LR_RATE) # defining optimizer\n",
    "loss_fn = nn.BCELoss(reduction='sum') # define loss function"
   ]
  },
  {
   "cell_type": "markdown",
   "id": "fa2066bc",
   "metadata": {},
   "source": [
    "### training model"
   ]
  },
  {
   "cell_type": "code",
   "execution_count": 6,
   "id": "3b4f0ac0",
   "metadata": {},
   "outputs": [
    {
     "name": "stderr",
     "output_type": "stream",
     "text": [
      "2it [00:00, 17.83it/s, loss=4.47e+4]"
     ]
    },
    {
     "name": "stdout",
     "output_type": "stream",
     "text": [
      "Epoch: 0\n"
     ]
    },
    {
     "name": "stderr",
     "output_type": "stream",
     "text": [
      "800it [00:20, 39.38it/s, loss=4.46e+4]\n",
      "4it [00:00, 37.58it/s, loss=4.45e+4]"
     ]
    },
    {
     "name": "stdout",
     "output_type": "stream",
     "text": [
      "Epoch: 1\n"
     ]
    },
    {
     "name": "stderr",
     "output_type": "stream",
     "text": [
      "800it [00:22, 35.01it/s, loss=4.43e+4]\n",
      "3it [00:00, 29.15it/s, loss=4.41e+4]"
     ]
    },
    {
     "name": "stdout",
     "output_type": "stream",
     "text": [
      "Epoch: 2\n"
     ]
    },
    {
     "name": "stderr",
     "output_type": "stream",
     "text": [
      "800it [00:24, 33.15it/s, loss=4.34e+4]\n",
      "3it [00:00, 26.06it/s, loss=4.28e+4]"
     ]
    },
    {
     "name": "stdout",
     "output_type": "stream",
     "text": [
      "Epoch: 3\n"
     ]
    },
    {
     "name": "stderr",
     "output_type": "stream",
     "text": [
      "800it [00:26, 30.00it/s, loss=4.41e+4]\n",
      "4it [00:00, 33.49it/s, loss=4.35e+4]"
     ]
    },
    {
     "name": "stdout",
     "output_type": "stream",
     "text": [
      "Epoch: 4\n"
     ]
    },
    {
     "name": "stderr",
     "output_type": "stream",
     "text": [
      "800it [00:26, 30.28it/s, loss=4.29e+4]\n",
      "3it [00:00, 24.14it/s, loss=4.32e+4]"
     ]
    },
    {
     "name": "stdout",
     "output_type": "stream",
     "text": [
      "Epoch: 5\n"
     ]
    },
    {
     "name": "stderr",
     "output_type": "stream",
     "text": [
      "800it [00:27, 29.44it/s, loss=4.24e+4]\n",
      "3it [00:00, 26.08it/s, loss=4.23e+4]"
     ]
    },
    {
     "name": "stdout",
     "output_type": "stream",
     "text": [
      "Epoch: 6\n"
     ]
    },
    {
     "name": "stderr",
     "output_type": "stream",
     "text": [
      "800it [00:27, 29.56it/s, loss=4.26e+4]\n",
      "4it [00:00, 32.93it/s, loss=4.21e+4]"
     ]
    },
    {
     "name": "stdout",
     "output_type": "stream",
     "text": [
      "Epoch: 7\n"
     ]
    },
    {
     "name": "stderr",
     "output_type": "stream",
     "text": [
      "800it [00:27, 29.44it/s, loss=4.28e+4]\n",
      "3it [00:00, 26.63it/s, loss=4.23e+4]"
     ]
    },
    {
     "name": "stdout",
     "output_type": "stream",
     "text": [
      "Epoch: 8\n"
     ]
    },
    {
     "name": "stderr",
     "output_type": "stream",
     "text": [
      "800it [00:27, 29.62it/s, loss=4.21e+4]\n",
      "3it [00:00, 28.76it/s, loss=4.24e+4]"
     ]
    },
    {
     "name": "stdout",
     "output_type": "stream",
     "text": [
      "Epoch: 9\n"
     ]
    },
    {
     "name": "stderr",
     "output_type": "stream",
     "text": [
      "800it [00:27, 29.61it/s, loss=42230.5]\n"
     ]
    }
   ],
   "source": [
    "# Start Training\n",
    "for epoch in range(NUM_EPOCHS):\n",
    "    loop = tqdm(enumerate(train_loader))\n",
    "    print(f'Epoch: {epoch}')\n",
    "    for i, (x, _) in loop:\n",
    "        # forward pass\n",
    "        x = x.to(DEVICE).view(1, INPUT_DIM, INPUT_DIM)\n",
    "        x_reconstructed, mu, sigma = model(x)\n",
    "        \n",
    "        # compute loss\n",
    "        reconstruction_loss = loss_fn(x_reconstructed, x)\n",
    "        kl_div = -torch.sum(1 + torch.log(sigma.pow(2)) - mu.pow(2) - sigma.pow(2))\n",
    "        \n",
    "        # backpropagation\n",
    "        loss = reconstruction_loss + kl_div\n",
    "        optimizer.zero_grad()\n",
    "        loss.backward()\n",
    "        optimizer.step()\n",
    "        loop.set_postfix(loss=loss.item())"
   ]
  },
  {
   "cell_type": "markdown",
   "id": "b2939fb5",
   "metadata": {},
   "source": [
    "### saving the model"
   ]
  },
  {
   "cell_type": "code",
   "execution_count": 7,
   "id": "a0516463",
   "metadata": {},
   "outputs": [],
   "source": [
    "torch.save(model.state_dict(), 'models/model_256x_10')"
   ]
  },
  {
   "cell_type": "markdown",
   "id": "bd28cb70",
   "metadata": {},
   "source": [
    "### loading the model"
   ]
  },
  {
   "cell_type": "code",
   "execution_count": 4,
   "id": "c99c1768",
   "metadata": {},
   "outputs": [
    {
     "data": {
      "text/plain": [
       "VariationalAutoEncoder(\n",
       "  (enc1): Conv2d(1, 8, kernel_size=(4, 4), stride=(2, 2), padding=(1, 1))\n",
       "  (enc2): Conv2d(8, 16, kernel_size=(4, 4), stride=(2, 2), padding=(1, 1))\n",
       "  (enc3): Conv2d(16, 32, kernel_size=(4, 4), stride=(2, 2), padding=(1, 1))\n",
       "  (enc4): Conv2d(32, 64, kernel_size=(4, 4), stride=(2, 2))\n",
       "  (fc1): Linear(in_features=14400, out_features=128, bias=True)\n",
       "  (fc_mu): Linear(in_features=128, out_features=3, bias=True)\n",
       "  (fc_log_var): Linear(in_features=128, out_features=3, bias=True)\n",
       "  (fc2): Linear(in_features=3, out_features=256, bias=True)\n",
       "  (dec1): ConvTranspose2d(256, 256, kernel_size=(4, 4), stride=(1, 1))\n",
       "  (dec2): ConvTranspose2d(256, 128, kernel_size=(4, 4), stride=(2, 2), padding=(1, 1))\n",
       "  (dec3): ConvTranspose2d(128, 64, kernel_size=(4, 4), stride=(2, 2), padding=(1, 1))\n",
       "  (dec4): ConvTranspose2d(64, 32, kernel_size=(4, 4), stride=(2, 2), padding=(1, 1))\n",
       "  (dec5): ConvTranspose2d(32, 8, kernel_size=(4, 4), stride=(2, 2), padding=(1, 1))\n",
       "  (dec6): ConvTranspose2d(8, 4, kernel_size=(4, 4), stride=(2, 2), padding=(1, 1))\n",
       "  (dec7): ConvTranspose2d(4, 1, kernel_size=(4, 4), stride=(2, 2), padding=(1, 1))\n",
       "  (relu): ReLU()\n",
       ")"
      ]
     },
     "execution_count": 4,
     "metadata": {},
     "output_type": "execute_result"
    }
   ],
   "source": [
    "model = VariationalAutoEncoder(init_dim=INIT_DIM, latent_dim=LATENT_DIM, kernel_size=KERNEL_SIZE)\n",
    "model.load_state_dict(torch.load('models/model_256x_10'))\n",
    "model.eval()"
   ]
  },
  {
   "cell_type": "code",
   "execution_count": null,
   "id": "98437bb1",
   "metadata": {},
   "outputs": [],
   "source": []
  }
 ],
 "metadata": {
  "kernelspec": {
   "display_name": "Python 3 (ipykernel)",
   "language": "python",
   "name": "python3"
  },
  "language_info": {
   "codemirror_mode": {
    "name": "ipython",
    "version": 3
   },
   "file_extension": ".py",
   "mimetype": "text/x-python",
   "name": "python",
   "nbconvert_exporter": "python",
   "pygments_lexer": "ipython3",
   "version": "3.10.12"
  }
 },
 "nbformat": 4,
 "nbformat_minor": 5
}
